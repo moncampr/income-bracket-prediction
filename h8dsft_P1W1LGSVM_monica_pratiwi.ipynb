{
  "cells": [
    {
      "cell_type": "markdown",
      "metadata": {
        "id": "J4cOIZJcI_D9"
      },
      "source": [
        "# **I. Introduction**\n"
      ]
    },
    {
      "cell_type": "markdown",
      "metadata": {
        "id": "DJI9qbHyUBjk"
      },
      "source": [
        "Nama : Monica M. Pratiwi\n",
        "<br>\n",
        "Batch : FTDS-016-RMT\n",
        "\n",
        "\n",
        "\n"
      ]
    },
    {
      "cell_type": "markdown",
      "metadata": {
        "id": "kFp2ZEZpVeUT"
      },
      "source": [
        "## **Query pada Google Cloud Platform**"
      ]
    },
    {
      "cell_type": "markdown",
      "metadata": {
        "id": "gUphlwPrzDpL"
      },
      "source": [
        "Data yang digunakan adalah dataset `ml_datasets` dari database bernama `census_adult_income`.\n",
        "<br>\n",
        "Query yang dibuat memiliki kriteria sebagai berikut:\n",
        "1. Kolom yang dipilih adalah `age`, `workclass`, `education`, `education_num`, `marital_status`, `occupation`, `relationship`, `race`, `sex`, `capital_gain`, `capital_loss`, `hours_per_week`, `native_country`, dan `income_bracket`.\n",
        "2. Pilih semua `workclass`, kecuali `?`.\n",
        "3. Pilih `hours_per_week` kurang dari 100.\n",
        "4. Limit jumlah data menjadi sebanyak nomor batch dikali dengan tahun lahir. Untuk batch 16 dan lahir tahun 1998, maka nilai limit 16 x 1998 = 31968."
      ]
    },
    {
      "cell_type": "markdown",
      "metadata": {
        "id": "3gjg8lnK4vb9"
      },
      "source": [
        "**Query yang digunakan**"
      ]
    },
    {
      "cell_type": "code",
      "execution_count": 2,
      "metadata": {
        "id": "dzhJdCZwVx-j"
      },
      "outputs": [],
      "source": [
        "# Insert Query\n",
        "\n",
        "#select * except(functional_weight) from `bigquery-public-data.ml_datasets.census_adult_income`a\n",
        "#where a.workclass not like '%?'\n",
        "#and a.hours_per_week < 100\n",
        "#limit 31968\n"
      ]
    },
    {
      "cell_type": "markdown",
      "metadata": {
        "id": "VwWLA3k-X2sp"
      },
      "source": [
        "## **Objective**"
      ]
    },
    {
      "cell_type": "markdown",
      "metadata": {
        "id": "Gouo3l3gVYiv"
      },
      "source": [
        "Membuat model classification menggunakan Logistic Regression dan SVM untuk memprediksi `income bracket`"
      ]
    },
    {
      "cell_type": "markdown",
      "metadata": {
        "id": "Ee_l0-1-YKGT"
      },
      "source": [
        "# **II. Import Libraries**"
      ]
    },
    {
      "cell_type": "code",
      "execution_count": 3,
      "metadata": {
        "id": "0ns-BBj6GGk-"
      },
      "outputs": [],
      "source": [
        "# Import Libraries\n",
        "\n",
        "import pandas as pd\n",
        "import numpy as np\n",
        "import matplotlib.pyplot as plt\n",
        "import seaborn as sns\n",
        "from numpy import array \n",
        "from scipy import stats\n",
        "from sklearn.model_selection import train_test_split\n",
        "from sklearn.preprocessing import MinMaxScaler\n",
        "from sklearn.preprocessing import OneHotEncoder\n",
        "from sklearn.preprocessing import OrdinalEncoder\n",
        "from sklearn.linear_model import LogisticRegression\n",
        "from sklearn.metrics import mean_absolute_error,mean_squared_error,r2_score\n",
        "from sklearn.metrics import accuracy_score, confusion_matrix, ConfusionMatrixDisplay, classification_report\n",
        "from sklearn.model_selection import GridSearchCV\n",
        "from sklearn.svm import SVC\n",
        "import joblib\n",
        "import json"
      ]
    },
    {
      "cell_type": "code",
      "execution_count": 5,
      "metadata": {
        "colab": {
          "base_uri": "https://localhost:8080/"
        },
        "id": "rEFd-uKGS3sY",
        "outputId": "2f7c1020-388e-42fe-dc62-bf41ee2ad391"
      },
      "outputs": [
        {
          "output_type": "stream",
          "name": "stdout",
          "text": [
            "Looking in indexes: https://pypi.org/simple, https://us-python.pkg.dev/colab-wheels/public/simple/\n",
            "Collecting feature-engine\n",
            "  Downloading feature_engine-1.4.0-py2.py3-none-any.whl (276 kB)\n",
            "\u001b[K     |████████████████████████████████| 276 kB 4.2 MB/s \n",
            "\u001b[?25hRequirement already satisfied: scipy>=1.4.1 in /usr/local/lib/python3.7/dist-packages (from feature-engine) (1.7.3)\n",
            "Requirement already satisfied: numpy>=1.18.2 in /usr/local/lib/python3.7/dist-packages (from feature-engine) (1.21.6)\n",
            "Requirement already satisfied: pandas>=1.0.3 in /usr/local/lib/python3.7/dist-packages (from feature-engine) (1.3.5)\n",
            "Requirement already satisfied: statsmodels>=0.11.1 in /usr/local/lib/python3.7/dist-packages (from feature-engine) (0.12.2)\n",
            "Requirement already satisfied: scikit-learn>=1.0.0 in /usr/local/lib/python3.7/dist-packages (from feature-engine) (1.0.2)\n",
            "Requirement already satisfied: python-dateutil>=2.7.3 in /usr/local/lib/python3.7/dist-packages (from pandas>=1.0.3->feature-engine) (2.8.2)\n",
            "Requirement already satisfied: pytz>=2017.3 in /usr/local/lib/python3.7/dist-packages (from pandas>=1.0.3->feature-engine) (2022.6)\n",
            "Requirement already satisfied: six>=1.5 in /usr/local/lib/python3.7/dist-packages (from python-dateutil>=2.7.3->pandas>=1.0.3->feature-engine) (1.15.0)\n",
            "Requirement already satisfied: joblib>=0.11 in /usr/local/lib/python3.7/dist-packages (from scikit-learn>=1.0.0->feature-engine) (1.2.0)\n",
            "Requirement already satisfied: threadpoolctl>=2.0.0 in /usr/local/lib/python3.7/dist-packages (from scikit-learn>=1.0.0->feature-engine) (3.1.0)\n",
            "Requirement already satisfied: patsy>=0.5 in /usr/local/lib/python3.7/dist-packages (from statsmodels>=0.11.1->feature-engine) (0.5.3)\n",
            "Installing collected packages: feature-engine\n",
            "Successfully installed feature-engine-1.4.0\n"
          ]
        }
      ],
      "source": [
        "!pip install feature-engine\n",
        "\n",
        "from feature_engine.outliers import Winsorizer"
      ]
    },
    {
      "cell_type": "markdown",
      "metadata": {
        "id": "LEt7cKQkxzBH"
      },
      "source": [
        "# **III. Data Loading**"
      ]
    },
    {
      "cell_type": "markdown",
      "metadata": {
        "id": "8HPdPwU96lRJ"
      },
      "source": [
        "Data yang sudah dipilih kemudian disimpan dengan nama `h8dsft_P1G2_monica_pratiwi` dalam format .csv di Google Drive. Selanjutnya, dibuat dataframe menggunakan data tersebut dengan nama `data`. "
      ]
    },
    {
      "cell_type": "code",
      "execution_count": 6,
      "metadata": {
        "id": "3fMFhNq35Zei"
      },
      "outputs": [],
      "source": [
        "# Loading Dataset\n",
        "\n",
        "data = pd.read_csv('/content/drive/MyDrive/bq-results-20221109-120149-1667995351434/h8dsft_P1G2_monica_pratiwi.csv')\n"
      ]
    },
    {
      "cell_type": "markdown",
      "metadata": {
        "id": "h7X9_EuU71-F"
      },
      "source": [
        "\n",
        "Data yang sudah terpanggil kemudian diperlihat 5 baris awal dan 5 baris akhir nya."
      ]
    },
    {
      "cell_type": "code",
      "execution_count": 7,
      "metadata": {
        "colab": {
          "base_uri": "https://localhost:8080/",
          "height": 374
        },
        "id": "vbwIIm3U5wN5",
        "outputId": "2ac27313-af07-4174-facd-5769b5f4de84"
      },
      "outputs": [
        {
          "output_type": "execute_result",
          "data": {
            "text/plain": [
              "   age          workclass      education  education_num       marital_status  \\\n",
              "0   18       Never-worked   Some-college             10        Never-married   \n",
              "1   37            Private           12th              8   Married-civ-spouse   \n",
              "2   39   Self-emp-not-inc        HS-grad              9   Married-civ-spouse   \n",
              "3   29            Private        HS-grad              9   Married-civ-spouse   \n",
              "4   64            Private        HS-grad              9   Married-civ-spouse   \n",
              "\n",
              "  occupation relationship                 race      sex  capital_gain  \\\n",
              "0          ?    Own-child                White     Male             0   \n",
              "1      Sales         Wife   Asian-Pac-Islander   Female             0   \n",
              "2      Sales         Wife                Black   Female             0   \n",
              "3      Sales         Wife                White   Female             0   \n",
              "4      Sales         Wife                White   Female             0   \n",
              "\n",
              "   capital_loss  hours_per_week       native_country income_bracket  \n",
              "0             0               4        United-States          <=50K  \n",
              "1             0              33                    ?          <=50K  \n",
              "2             0              54   Dominican-Republic           >50K  \n",
              "3             0              18        United-States          <=50K  \n",
              "4             0              21        United-States          <=50K  "
            ],
            "text/html": [
              "\n",
              "  <div id=\"df-efa34c4a-2da7-472f-b928-80158625b921\">\n",
              "    <div class=\"colab-df-container\">\n",
              "      <div>\n",
              "<style scoped>\n",
              "    .dataframe tbody tr th:only-of-type {\n",
              "        vertical-align: middle;\n",
              "    }\n",
              "\n",
              "    .dataframe tbody tr th {\n",
              "        vertical-align: top;\n",
              "    }\n",
              "\n",
              "    .dataframe thead th {\n",
              "        text-align: right;\n",
              "    }\n",
              "</style>\n",
              "<table border=\"1\" class=\"dataframe\">\n",
              "  <thead>\n",
              "    <tr style=\"text-align: right;\">\n",
              "      <th></th>\n",
              "      <th>age</th>\n",
              "      <th>workclass</th>\n",
              "      <th>education</th>\n",
              "      <th>education_num</th>\n",
              "      <th>marital_status</th>\n",
              "      <th>occupation</th>\n",
              "      <th>relationship</th>\n",
              "      <th>race</th>\n",
              "      <th>sex</th>\n",
              "      <th>capital_gain</th>\n",
              "      <th>capital_loss</th>\n",
              "      <th>hours_per_week</th>\n",
              "      <th>native_country</th>\n",
              "      <th>income_bracket</th>\n",
              "    </tr>\n",
              "  </thead>\n",
              "  <tbody>\n",
              "    <tr>\n",
              "      <th>0</th>\n",
              "      <td>18</td>\n",
              "      <td>Never-worked</td>\n",
              "      <td>Some-college</td>\n",
              "      <td>10</td>\n",
              "      <td>Never-married</td>\n",
              "      <td>?</td>\n",
              "      <td>Own-child</td>\n",
              "      <td>White</td>\n",
              "      <td>Male</td>\n",
              "      <td>0</td>\n",
              "      <td>0</td>\n",
              "      <td>4</td>\n",
              "      <td>United-States</td>\n",
              "      <td>&lt;=50K</td>\n",
              "    </tr>\n",
              "    <tr>\n",
              "      <th>1</th>\n",
              "      <td>37</td>\n",
              "      <td>Private</td>\n",
              "      <td>12th</td>\n",
              "      <td>8</td>\n",
              "      <td>Married-civ-spouse</td>\n",
              "      <td>Sales</td>\n",
              "      <td>Wife</td>\n",
              "      <td>Asian-Pac-Islander</td>\n",
              "      <td>Female</td>\n",
              "      <td>0</td>\n",
              "      <td>0</td>\n",
              "      <td>33</td>\n",
              "      <td>?</td>\n",
              "      <td>&lt;=50K</td>\n",
              "    </tr>\n",
              "    <tr>\n",
              "      <th>2</th>\n",
              "      <td>39</td>\n",
              "      <td>Self-emp-not-inc</td>\n",
              "      <td>HS-grad</td>\n",
              "      <td>9</td>\n",
              "      <td>Married-civ-spouse</td>\n",
              "      <td>Sales</td>\n",
              "      <td>Wife</td>\n",
              "      <td>Black</td>\n",
              "      <td>Female</td>\n",
              "      <td>0</td>\n",
              "      <td>0</td>\n",
              "      <td>54</td>\n",
              "      <td>Dominican-Republic</td>\n",
              "      <td>&gt;50K</td>\n",
              "    </tr>\n",
              "    <tr>\n",
              "      <th>3</th>\n",
              "      <td>29</td>\n",
              "      <td>Private</td>\n",
              "      <td>HS-grad</td>\n",
              "      <td>9</td>\n",
              "      <td>Married-civ-spouse</td>\n",
              "      <td>Sales</td>\n",
              "      <td>Wife</td>\n",
              "      <td>White</td>\n",
              "      <td>Female</td>\n",
              "      <td>0</td>\n",
              "      <td>0</td>\n",
              "      <td>18</td>\n",
              "      <td>United-States</td>\n",
              "      <td>&lt;=50K</td>\n",
              "    </tr>\n",
              "    <tr>\n",
              "      <th>4</th>\n",
              "      <td>64</td>\n",
              "      <td>Private</td>\n",
              "      <td>HS-grad</td>\n",
              "      <td>9</td>\n",
              "      <td>Married-civ-spouse</td>\n",
              "      <td>Sales</td>\n",
              "      <td>Wife</td>\n",
              "      <td>White</td>\n",
              "      <td>Female</td>\n",
              "      <td>0</td>\n",
              "      <td>0</td>\n",
              "      <td>21</td>\n",
              "      <td>United-States</td>\n",
              "      <td>&lt;=50K</td>\n",
              "    </tr>\n",
              "  </tbody>\n",
              "</table>\n",
              "</div>\n",
              "      <button class=\"colab-df-convert\" onclick=\"convertToInteractive('df-efa34c4a-2da7-472f-b928-80158625b921')\"\n",
              "              title=\"Convert this dataframe to an interactive table.\"\n",
              "              style=\"display:none;\">\n",
              "        \n",
              "  <svg xmlns=\"http://www.w3.org/2000/svg\" height=\"24px\"viewBox=\"0 0 24 24\"\n",
              "       width=\"24px\">\n",
              "    <path d=\"M0 0h24v24H0V0z\" fill=\"none\"/>\n",
              "    <path d=\"M18.56 5.44l.94 2.06.94-2.06 2.06-.94-2.06-.94-.94-2.06-.94 2.06-2.06.94zm-11 1L8.5 8.5l.94-2.06 2.06-.94-2.06-.94L8.5 2.5l-.94 2.06-2.06.94zm10 10l.94 2.06.94-2.06 2.06-.94-2.06-.94-.94-2.06-.94 2.06-2.06.94z\"/><path d=\"M17.41 7.96l-1.37-1.37c-.4-.4-.92-.59-1.43-.59-.52 0-1.04.2-1.43.59L10.3 9.45l-7.72 7.72c-.78.78-.78 2.05 0 2.83L4 21.41c.39.39.9.59 1.41.59.51 0 1.02-.2 1.41-.59l7.78-7.78 2.81-2.81c.8-.78.8-2.07 0-2.86zM5.41 20L4 18.59l7.72-7.72 1.47 1.35L5.41 20z\"/>\n",
              "  </svg>\n",
              "      </button>\n",
              "      \n",
              "  <style>\n",
              "    .colab-df-container {\n",
              "      display:flex;\n",
              "      flex-wrap:wrap;\n",
              "      gap: 12px;\n",
              "    }\n",
              "\n",
              "    .colab-df-convert {\n",
              "      background-color: #E8F0FE;\n",
              "      border: none;\n",
              "      border-radius: 50%;\n",
              "      cursor: pointer;\n",
              "      display: none;\n",
              "      fill: #1967D2;\n",
              "      height: 32px;\n",
              "      padding: 0 0 0 0;\n",
              "      width: 32px;\n",
              "    }\n",
              "\n",
              "    .colab-df-convert:hover {\n",
              "      background-color: #E2EBFA;\n",
              "      box-shadow: 0px 1px 2px rgba(60, 64, 67, 0.3), 0px 1px 3px 1px rgba(60, 64, 67, 0.15);\n",
              "      fill: #174EA6;\n",
              "    }\n",
              "\n",
              "    [theme=dark] .colab-df-convert {\n",
              "      background-color: #3B4455;\n",
              "      fill: #D2E3FC;\n",
              "    }\n",
              "\n",
              "    [theme=dark] .colab-df-convert:hover {\n",
              "      background-color: #434B5C;\n",
              "      box-shadow: 0px 1px 3px 1px rgba(0, 0, 0, 0.15);\n",
              "      filter: drop-shadow(0px 1px 2px rgba(0, 0, 0, 0.3));\n",
              "      fill: #FFFFFF;\n",
              "    }\n",
              "  </style>\n",
              "\n",
              "      <script>\n",
              "        const buttonEl =\n",
              "          document.querySelector('#df-efa34c4a-2da7-472f-b928-80158625b921 button.colab-df-convert');\n",
              "        buttonEl.style.display =\n",
              "          google.colab.kernel.accessAllowed ? 'block' : 'none';\n",
              "\n",
              "        async function convertToInteractive(key) {\n",
              "          const element = document.querySelector('#df-efa34c4a-2da7-472f-b928-80158625b921');\n",
              "          const dataTable =\n",
              "            await google.colab.kernel.invokeFunction('convertToInteractive',\n",
              "                                                     [key], {});\n",
              "          if (!dataTable) return;\n",
              "\n",
              "          const docLinkHtml = 'Like what you see? Visit the ' +\n",
              "            '<a target=\"_blank\" href=https://colab.research.google.com/notebooks/data_table.ipynb>data table notebook</a>'\n",
              "            + ' to learn more about interactive tables.';\n",
              "          element.innerHTML = '';\n",
              "          dataTable['output_type'] = 'display_data';\n",
              "          await google.colab.output.renderOutput(dataTable, element);\n",
              "          const docLink = document.createElement('div');\n",
              "          docLink.innerHTML = docLinkHtml;\n",
              "          element.appendChild(docLink);\n",
              "        }\n",
              "      </script>\n",
              "    </div>\n",
              "  </div>\n",
              "  "
            ]
          },
          "metadata": {},
          "execution_count": 7
        }
      ],
      "source": [
        "# Show the head of the data\n",
        "\n",
        "data.head(5)\n"
      ]
    },
    {
      "cell_type": "code",
      "execution_count": 8,
      "metadata": {
        "colab": {
          "base_uri": "https://localhost:8080/",
          "height": 357
        },
        "id": "-kVhGNJs6BZg",
        "outputId": "adfd3855-e63b-4fd6-9544-82f272734902"
      },
      "outputs": [
        {
          "output_type": "execute_result",
          "data": {
            "text/plain": [
              "       age      workclass      education  education_num       marital_status  \\\n",
              "30720   50   Self-emp-inc   Some-college             10   Married-civ-spouse   \n",
              "30721   21        Private   Some-college             10        Never-married   \n",
              "30722   32        Private   Some-college             10            Separated   \n",
              "30723   39        Private        HS-grad              9             Divorced   \n",
              "30724   20        Private   Some-college             10        Never-married   \n",
              "\n",
              "               occupation    relationship    race      sex  capital_gain  \\\n",
              "30720   Machine-op-inspct         Husband   White     Male             0   \n",
              "30721   Machine-op-inspct       Own-child   White   Female             0   \n",
              "30722   Machine-op-inspct       Unmarried   Black   Female             0   \n",
              "30723   Machine-op-inspct   Not-in-family   Black   Female             0   \n",
              "30724   Machine-op-inspct   Not-in-family   White     Male             0   \n",
              "\n",
              "       capital_loss  hours_per_week  native_country income_bracket  \n",
              "30720             0              70         Germany          <=50K  \n",
              "30721             0              70   United-States          <=50K  \n",
              "30722             0              70   United-States          <=50K  \n",
              "30723             0              70   United-States          <=50K  \n",
              "30724             0              70   United-States          <=50K  "
            ],
            "text/html": [
              "\n",
              "  <div id=\"df-8049a545-f66d-4c02-ad44-0dcaafd89e72\">\n",
              "    <div class=\"colab-df-container\">\n",
              "      <div>\n",
              "<style scoped>\n",
              "    .dataframe tbody tr th:only-of-type {\n",
              "        vertical-align: middle;\n",
              "    }\n",
              "\n",
              "    .dataframe tbody tr th {\n",
              "        vertical-align: top;\n",
              "    }\n",
              "\n",
              "    .dataframe thead th {\n",
              "        text-align: right;\n",
              "    }\n",
              "</style>\n",
              "<table border=\"1\" class=\"dataframe\">\n",
              "  <thead>\n",
              "    <tr style=\"text-align: right;\">\n",
              "      <th></th>\n",
              "      <th>age</th>\n",
              "      <th>workclass</th>\n",
              "      <th>education</th>\n",
              "      <th>education_num</th>\n",
              "      <th>marital_status</th>\n",
              "      <th>occupation</th>\n",
              "      <th>relationship</th>\n",
              "      <th>race</th>\n",
              "      <th>sex</th>\n",
              "      <th>capital_gain</th>\n",
              "      <th>capital_loss</th>\n",
              "      <th>hours_per_week</th>\n",
              "      <th>native_country</th>\n",
              "      <th>income_bracket</th>\n",
              "    </tr>\n",
              "  </thead>\n",
              "  <tbody>\n",
              "    <tr>\n",
              "      <th>30720</th>\n",
              "      <td>50</td>\n",
              "      <td>Self-emp-inc</td>\n",
              "      <td>Some-college</td>\n",
              "      <td>10</td>\n",
              "      <td>Married-civ-spouse</td>\n",
              "      <td>Machine-op-inspct</td>\n",
              "      <td>Husband</td>\n",
              "      <td>White</td>\n",
              "      <td>Male</td>\n",
              "      <td>0</td>\n",
              "      <td>0</td>\n",
              "      <td>70</td>\n",
              "      <td>Germany</td>\n",
              "      <td>&lt;=50K</td>\n",
              "    </tr>\n",
              "    <tr>\n",
              "      <th>30721</th>\n",
              "      <td>21</td>\n",
              "      <td>Private</td>\n",
              "      <td>Some-college</td>\n",
              "      <td>10</td>\n",
              "      <td>Never-married</td>\n",
              "      <td>Machine-op-inspct</td>\n",
              "      <td>Own-child</td>\n",
              "      <td>White</td>\n",
              "      <td>Female</td>\n",
              "      <td>0</td>\n",
              "      <td>0</td>\n",
              "      <td>70</td>\n",
              "      <td>United-States</td>\n",
              "      <td>&lt;=50K</td>\n",
              "    </tr>\n",
              "    <tr>\n",
              "      <th>30722</th>\n",
              "      <td>32</td>\n",
              "      <td>Private</td>\n",
              "      <td>Some-college</td>\n",
              "      <td>10</td>\n",
              "      <td>Separated</td>\n",
              "      <td>Machine-op-inspct</td>\n",
              "      <td>Unmarried</td>\n",
              "      <td>Black</td>\n",
              "      <td>Female</td>\n",
              "      <td>0</td>\n",
              "      <td>0</td>\n",
              "      <td>70</td>\n",
              "      <td>United-States</td>\n",
              "      <td>&lt;=50K</td>\n",
              "    </tr>\n",
              "    <tr>\n",
              "      <th>30723</th>\n",
              "      <td>39</td>\n",
              "      <td>Private</td>\n",
              "      <td>HS-grad</td>\n",
              "      <td>9</td>\n",
              "      <td>Divorced</td>\n",
              "      <td>Machine-op-inspct</td>\n",
              "      <td>Not-in-family</td>\n",
              "      <td>Black</td>\n",
              "      <td>Female</td>\n",
              "      <td>0</td>\n",
              "      <td>0</td>\n",
              "      <td>70</td>\n",
              "      <td>United-States</td>\n",
              "      <td>&lt;=50K</td>\n",
              "    </tr>\n",
              "    <tr>\n",
              "      <th>30724</th>\n",
              "      <td>20</td>\n",
              "      <td>Private</td>\n",
              "      <td>Some-college</td>\n",
              "      <td>10</td>\n",
              "      <td>Never-married</td>\n",
              "      <td>Machine-op-inspct</td>\n",
              "      <td>Not-in-family</td>\n",
              "      <td>White</td>\n",
              "      <td>Male</td>\n",
              "      <td>0</td>\n",
              "      <td>0</td>\n",
              "      <td>70</td>\n",
              "      <td>United-States</td>\n",
              "      <td>&lt;=50K</td>\n",
              "    </tr>\n",
              "  </tbody>\n",
              "</table>\n",
              "</div>\n",
              "      <button class=\"colab-df-convert\" onclick=\"convertToInteractive('df-8049a545-f66d-4c02-ad44-0dcaafd89e72')\"\n",
              "              title=\"Convert this dataframe to an interactive table.\"\n",
              "              style=\"display:none;\">\n",
              "        \n",
              "  <svg xmlns=\"http://www.w3.org/2000/svg\" height=\"24px\"viewBox=\"0 0 24 24\"\n",
              "       width=\"24px\">\n",
              "    <path d=\"M0 0h24v24H0V0z\" fill=\"none\"/>\n",
              "    <path d=\"M18.56 5.44l.94 2.06.94-2.06 2.06-.94-2.06-.94-.94-2.06-.94 2.06-2.06.94zm-11 1L8.5 8.5l.94-2.06 2.06-.94-2.06-.94L8.5 2.5l-.94 2.06-2.06.94zm10 10l.94 2.06.94-2.06 2.06-.94-2.06-.94-.94-2.06-.94 2.06-2.06.94z\"/><path d=\"M17.41 7.96l-1.37-1.37c-.4-.4-.92-.59-1.43-.59-.52 0-1.04.2-1.43.59L10.3 9.45l-7.72 7.72c-.78.78-.78 2.05 0 2.83L4 21.41c.39.39.9.59 1.41.59.51 0 1.02-.2 1.41-.59l7.78-7.78 2.81-2.81c.8-.78.8-2.07 0-2.86zM5.41 20L4 18.59l7.72-7.72 1.47 1.35L5.41 20z\"/>\n",
              "  </svg>\n",
              "      </button>\n",
              "      \n",
              "  <style>\n",
              "    .colab-df-container {\n",
              "      display:flex;\n",
              "      flex-wrap:wrap;\n",
              "      gap: 12px;\n",
              "    }\n",
              "\n",
              "    .colab-df-convert {\n",
              "      background-color: #E8F0FE;\n",
              "      border: none;\n",
              "      border-radius: 50%;\n",
              "      cursor: pointer;\n",
              "      display: none;\n",
              "      fill: #1967D2;\n",
              "      height: 32px;\n",
              "      padding: 0 0 0 0;\n",
              "      width: 32px;\n",
              "    }\n",
              "\n",
              "    .colab-df-convert:hover {\n",
              "      background-color: #E2EBFA;\n",
              "      box-shadow: 0px 1px 2px rgba(60, 64, 67, 0.3), 0px 1px 3px 1px rgba(60, 64, 67, 0.15);\n",
              "      fill: #174EA6;\n",
              "    }\n",
              "\n",
              "    [theme=dark] .colab-df-convert {\n",
              "      background-color: #3B4455;\n",
              "      fill: #D2E3FC;\n",
              "    }\n",
              "\n",
              "    [theme=dark] .colab-df-convert:hover {\n",
              "      background-color: #434B5C;\n",
              "      box-shadow: 0px 1px 3px 1px rgba(0, 0, 0, 0.15);\n",
              "      filter: drop-shadow(0px 1px 2px rgba(0, 0, 0, 0.3));\n",
              "      fill: #FFFFFF;\n",
              "    }\n",
              "  </style>\n",
              "\n",
              "      <script>\n",
              "        const buttonEl =\n",
              "          document.querySelector('#df-8049a545-f66d-4c02-ad44-0dcaafd89e72 button.colab-df-convert');\n",
              "        buttonEl.style.display =\n",
              "          google.colab.kernel.accessAllowed ? 'block' : 'none';\n",
              "\n",
              "        async function convertToInteractive(key) {\n",
              "          const element = document.querySelector('#df-8049a545-f66d-4c02-ad44-0dcaafd89e72');\n",
              "          const dataTable =\n",
              "            await google.colab.kernel.invokeFunction('convertToInteractive',\n",
              "                                                     [key], {});\n",
              "          if (!dataTable) return;\n",
              "\n",
              "          const docLinkHtml = 'Like what you see? Visit the ' +\n",
              "            '<a target=\"_blank\" href=https://colab.research.google.com/notebooks/data_table.ipynb>data table notebook</a>'\n",
              "            + ' to learn more about interactive tables.';\n",
              "          element.innerHTML = '';\n",
              "          dataTable['output_type'] = 'display_data';\n",
              "          await google.colab.output.renderOutput(dataTable, element);\n",
              "          const docLink = document.createElement('div');\n",
              "          docLink.innerHTML = docLinkHtml;\n",
              "          element.appendChild(docLink);\n",
              "        }\n",
              "      </script>\n",
              "    </div>\n",
              "  </div>\n",
              "  "
            ]
          },
          "metadata": {},
          "execution_count": 8
        }
      ],
      "source": [
        "# Show the tail of the data\n",
        "\n",
        "data.tail(5)"
      ]
    },
    {
      "cell_type": "markdown",
      "metadata": {
        "id": "88b2UoGU842f"
      },
      "source": [
        "Sekilas terlihat ada 14 kolom dan 30725. Untuk mematikannya, dilakukan pengecekan bentuk dan ukuran dataset."
      ]
    },
    {
      "cell_type": "code",
      "execution_count": 9,
      "metadata": {
        "colab": {
          "base_uri": "https://localhost:8080/"
        },
        "id": "ZOo5Zt2E7zmP",
        "outputId": "60643958-c5d7-488e-dda3-92d34c5452b8"
      },
      "outputs": [
        {
          "output_type": "stream",
          "name": "stdout",
          "text": [
            "data shape :  (30725, 14)\n",
            "data size  :  430150\n"
          ]
        }
      ],
      "source": [
        "# Find the data shape\n",
        "\n",
        "print('data shape : ', data.shape)\n",
        "print('data size  : ', data.size)"
      ]
    },
    {
      "cell_type": "markdown",
      "metadata": {
        "id": "jZ_oAK_M5ZMt"
      },
      "source": [
        "Jumlah baris dan kolom sesuai dengan pengamatan awal dan ukuran data merupakan hasil perkalian antara kolom dan baris yaitu terdapat 430150 informasi yang tersedia dalam data ini.\n",
        "<br>\n",
        "<br>\n",
        "Selanjutnya, dilakukan pemeriksaan data."
      ]
    },
    {
      "cell_type": "code",
      "execution_count": 10,
      "metadata": {
        "colab": {
          "base_uri": "https://localhost:8080/"
        },
        "id": "1VGa2voZ985b",
        "outputId": "7fc837b8-57de-41d5-e869-8da93c906316"
      },
      "outputs": [
        {
          "output_type": "stream",
          "name": "stdout",
          "text": [
            "<class 'pandas.core.frame.DataFrame'>\n",
            "RangeIndex: 30725 entries, 0 to 30724\n",
            "Data columns (total 14 columns):\n",
            " #   Column          Non-Null Count  Dtype \n",
            "---  ------          --------------  ----- \n",
            " 0   age             30725 non-null  int64 \n",
            " 1   workclass       30725 non-null  object\n",
            " 2   education       30725 non-null  object\n",
            " 3   education_num   30725 non-null  int64 \n",
            " 4   marital_status  30725 non-null  object\n",
            " 5   occupation      30725 non-null  object\n",
            " 6   relationship    30725 non-null  object\n",
            " 7   race            30725 non-null  object\n",
            " 8   sex             30725 non-null  object\n",
            " 9   capital_gain    30725 non-null  int64 \n",
            " 10  capital_loss    30725 non-null  int64 \n",
            " 11  hours_per_week  30725 non-null  int64 \n",
            " 12  native_country  30725 non-null  object\n",
            " 13  income_bracket  30725 non-null  object\n",
            "dtypes: int64(5), object(9)\n",
            "memory usage: 3.3+ MB\n"
          ]
        }
      ],
      "source": [
        "# Check Dataset - 1\n",
        "\n",
        "data.info()"
      ]
    },
    {
      "cell_type": "markdown",
      "metadata": {
        "id": "EB6O6RQDAr47"
      },
      "source": [
        "Dari 14 kolom, terdapat 5 kolom dengan jenis data integer dan sisanya adalah object. Sekilas tidak terlihat adanya missing values, namun pada pemeriksaan 5 baris awal ditemukan nilai '?' pada beberapa kolom yang mengindikasikan nilai data tidak diketahui atau dalam kata lain merupakan missing value."
      ]
    },
    {
      "cell_type": "code",
      "execution_count": 11,
      "metadata": {
        "id": "pqobrGhxHJdb"
      },
      "outputs": [],
      "source": [
        "# Duplicate data\n",
        "\n",
        "data_2 = data.copy()"
      ]
    },
    {
      "cell_type": "markdown",
      "metadata": {
        "id": "KCpyi9r5JiBV"
      },
      "source": [
        "Selanjutnya, dilakukan penggandaan data agar ada data cadangan jika terjadi masalah pada data. Data cadangan diberi nama `data_2`."
      ]
    },
    {
      "cell_type": "code",
      "execution_count": 12,
      "metadata": {
        "colab": {
          "base_uri": "https://localhost:8080/",
          "height": 300
        },
        "id": "VIih2N75KQdj",
        "outputId": "889efd3e-b1f7-43b3-a390-bb3cf0f26887"
      },
      "outputs": [
        {
          "output_type": "execute_result",
          "data": {
            "text/plain": [
              "                age  education_num  capital_gain  capital_loss  hours_per_week\n",
              "count  30725.000000   30725.000000  30725.000000  30725.000000    30725.000000\n",
              "mean      38.439512      10.129699   1105.785094     88.889959       40.946461\n",
              "std       13.119665       2.562702   7497.027762    405.613208       11.987385\n",
              "min       17.000000       1.000000      0.000000      0.000000        1.000000\n",
              "25%       28.000000       9.000000      0.000000      0.000000       40.000000\n",
              "50%       37.000000      10.000000      0.000000      0.000000       40.000000\n",
              "75%       47.000000      13.000000      0.000000      0.000000       45.000000\n",
              "max       90.000000      16.000000  99999.000000   4356.000000       99.000000"
            ],
            "text/html": [
              "\n",
              "  <div id=\"df-3e1bbb30-7764-4292-9341-07778c914685\">\n",
              "    <div class=\"colab-df-container\">\n",
              "      <div>\n",
              "<style scoped>\n",
              "    .dataframe tbody tr th:only-of-type {\n",
              "        vertical-align: middle;\n",
              "    }\n",
              "\n",
              "    .dataframe tbody tr th {\n",
              "        vertical-align: top;\n",
              "    }\n",
              "\n",
              "    .dataframe thead th {\n",
              "        text-align: right;\n",
              "    }\n",
              "</style>\n",
              "<table border=\"1\" class=\"dataframe\">\n",
              "  <thead>\n",
              "    <tr style=\"text-align: right;\">\n",
              "      <th></th>\n",
              "      <th>age</th>\n",
              "      <th>education_num</th>\n",
              "      <th>capital_gain</th>\n",
              "      <th>capital_loss</th>\n",
              "      <th>hours_per_week</th>\n",
              "    </tr>\n",
              "  </thead>\n",
              "  <tbody>\n",
              "    <tr>\n",
              "      <th>count</th>\n",
              "      <td>30725.000000</td>\n",
              "      <td>30725.000000</td>\n",
              "      <td>30725.000000</td>\n",
              "      <td>30725.000000</td>\n",
              "      <td>30725.000000</td>\n",
              "    </tr>\n",
              "    <tr>\n",
              "      <th>mean</th>\n",
              "      <td>38.439512</td>\n",
              "      <td>10.129699</td>\n",
              "      <td>1105.785094</td>\n",
              "      <td>88.889959</td>\n",
              "      <td>40.946461</td>\n",
              "    </tr>\n",
              "    <tr>\n",
              "      <th>std</th>\n",
              "      <td>13.119665</td>\n",
              "      <td>2.562702</td>\n",
              "      <td>7497.027762</td>\n",
              "      <td>405.613208</td>\n",
              "      <td>11.987385</td>\n",
              "    </tr>\n",
              "    <tr>\n",
              "      <th>min</th>\n",
              "      <td>17.000000</td>\n",
              "      <td>1.000000</td>\n",
              "      <td>0.000000</td>\n",
              "      <td>0.000000</td>\n",
              "      <td>1.000000</td>\n",
              "    </tr>\n",
              "    <tr>\n",
              "      <th>25%</th>\n",
              "      <td>28.000000</td>\n",
              "      <td>9.000000</td>\n",
              "      <td>0.000000</td>\n",
              "      <td>0.000000</td>\n",
              "      <td>40.000000</td>\n",
              "    </tr>\n",
              "    <tr>\n",
              "      <th>50%</th>\n",
              "      <td>37.000000</td>\n",
              "      <td>10.000000</td>\n",
              "      <td>0.000000</td>\n",
              "      <td>0.000000</td>\n",
              "      <td>40.000000</td>\n",
              "    </tr>\n",
              "    <tr>\n",
              "      <th>75%</th>\n",
              "      <td>47.000000</td>\n",
              "      <td>13.000000</td>\n",
              "      <td>0.000000</td>\n",
              "      <td>0.000000</td>\n",
              "      <td>45.000000</td>\n",
              "    </tr>\n",
              "    <tr>\n",
              "      <th>max</th>\n",
              "      <td>90.000000</td>\n",
              "      <td>16.000000</td>\n",
              "      <td>99999.000000</td>\n",
              "      <td>4356.000000</td>\n",
              "      <td>99.000000</td>\n",
              "    </tr>\n",
              "  </tbody>\n",
              "</table>\n",
              "</div>\n",
              "      <button class=\"colab-df-convert\" onclick=\"convertToInteractive('df-3e1bbb30-7764-4292-9341-07778c914685')\"\n",
              "              title=\"Convert this dataframe to an interactive table.\"\n",
              "              style=\"display:none;\">\n",
              "        \n",
              "  <svg xmlns=\"http://www.w3.org/2000/svg\" height=\"24px\"viewBox=\"0 0 24 24\"\n",
              "       width=\"24px\">\n",
              "    <path d=\"M0 0h24v24H0V0z\" fill=\"none\"/>\n",
              "    <path d=\"M18.56 5.44l.94 2.06.94-2.06 2.06-.94-2.06-.94-.94-2.06-.94 2.06-2.06.94zm-11 1L8.5 8.5l.94-2.06 2.06-.94-2.06-.94L8.5 2.5l-.94 2.06-2.06.94zm10 10l.94 2.06.94-2.06 2.06-.94-2.06-.94-.94-2.06-.94 2.06-2.06.94z\"/><path d=\"M17.41 7.96l-1.37-1.37c-.4-.4-.92-.59-1.43-.59-.52 0-1.04.2-1.43.59L10.3 9.45l-7.72 7.72c-.78.78-.78 2.05 0 2.83L4 21.41c.39.39.9.59 1.41.59.51 0 1.02-.2 1.41-.59l7.78-7.78 2.81-2.81c.8-.78.8-2.07 0-2.86zM5.41 20L4 18.59l7.72-7.72 1.47 1.35L5.41 20z\"/>\n",
              "  </svg>\n",
              "      </button>\n",
              "      \n",
              "  <style>\n",
              "    .colab-df-container {\n",
              "      display:flex;\n",
              "      flex-wrap:wrap;\n",
              "      gap: 12px;\n",
              "    }\n",
              "\n",
              "    .colab-df-convert {\n",
              "      background-color: #E8F0FE;\n",
              "      border: none;\n",
              "      border-radius: 50%;\n",
              "      cursor: pointer;\n",
              "      display: none;\n",
              "      fill: #1967D2;\n",
              "      height: 32px;\n",
              "      padding: 0 0 0 0;\n",
              "      width: 32px;\n",
              "    }\n",
              "\n",
              "    .colab-df-convert:hover {\n",
              "      background-color: #E2EBFA;\n",
              "      box-shadow: 0px 1px 2px rgba(60, 64, 67, 0.3), 0px 1px 3px 1px rgba(60, 64, 67, 0.15);\n",
              "      fill: #174EA6;\n",
              "    }\n",
              "\n",
              "    [theme=dark] .colab-df-convert {\n",
              "      background-color: #3B4455;\n",
              "      fill: #D2E3FC;\n",
              "    }\n",
              "\n",
              "    [theme=dark] .colab-df-convert:hover {\n",
              "      background-color: #434B5C;\n",
              "      box-shadow: 0px 1px 3px 1px rgba(0, 0, 0, 0.15);\n",
              "      filter: drop-shadow(0px 1px 2px rgba(0, 0, 0, 0.3));\n",
              "      fill: #FFFFFF;\n",
              "    }\n",
              "  </style>\n",
              "\n",
              "      <script>\n",
              "        const buttonEl =\n",
              "          document.querySelector('#df-3e1bbb30-7764-4292-9341-07778c914685 button.colab-df-convert');\n",
              "        buttonEl.style.display =\n",
              "          google.colab.kernel.accessAllowed ? 'block' : 'none';\n",
              "\n",
              "        async function convertToInteractive(key) {\n",
              "          const element = document.querySelector('#df-3e1bbb30-7764-4292-9341-07778c914685');\n",
              "          const dataTable =\n",
              "            await google.colab.kernel.invokeFunction('convertToInteractive',\n",
              "                                                     [key], {});\n",
              "          if (!dataTable) return;\n",
              "\n",
              "          const docLinkHtml = 'Like what you see? Visit the ' +\n",
              "            '<a target=\"_blank\" href=https://colab.research.google.com/notebooks/data_table.ipynb>data table notebook</a>'\n",
              "            + ' to learn more about interactive tables.';\n",
              "          element.innerHTML = '';\n",
              "          dataTable['output_type'] = 'display_data';\n",
              "          await google.colab.output.renderOutput(dataTable, element);\n",
              "          const docLink = document.createElement('div');\n",
              "          docLink.innerHTML = docLinkHtml;\n",
              "          element.appendChild(docLink);\n",
              "        }\n",
              "      </script>\n",
              "    </div>\n",
              "  </div>\n",
              "  "
            ]
          },
          "metadata": {},
          "execution_count": 12
        }
      ],
      "source": [
        "# Check Dataset - 2\n",
        "data.describe()"
      ]
    },
    {
      "cell_type": "markdown",
      "metadata": {
        "id": "0hUDfpDiPIvT"
      },
      "source": [
        "Selanjutnya, dilakukan pemeriksaan data lainnya. Diketahui bahwa rata-rata penduduk berada dalam usia produktif. Penduduk rata-rata memiliki pendidikan terakhir setingkat *college*. Jumlah jam kerja dalam seminggu rata-rata 40 jam."
      ]
    },
    {
      "cell_type": "markdown",
      "metadata": {
        "id": "fCxo4flkVh7w"
      },
      "source": [
        "# **IV. Exploratory Data Analysis (EDA)**"
      ]
    },
    {
      "cell_type": "code",
      "execution_count": 13,
      "metadata": {
        "id": "UlPtJCrqVqtM"
      },
      "outputs": [],
      "source": [
        "# Function to create histogram and boxplot.\n",
        "\n",
        "def diagnostic_plots(df, variable):\n",
        "    # Define figure size\n",
        "    plt.figure(figsize=(16, 4))\n",
        "\n",
        "    # Histogram\n",
        "    plt.subplot(1, 2, 1)\n",
        "    sns.histplot(df[variable], kde=True, bins=30)\n",
        "    plt.title('Histogram')\n",
        "\n",
        "    # Boxplot\n",
        "    plt.subplot(1, 2, 2)\n",
        "    sns.boxplot(y=df[variable])\n",
        "    plt.title('Boxplot')\n",
        "\n",
        "    plt.show()"
      ]
    },
    {
      "cell_type": "code",
      "execution_count": 14,
      "metadata": {
        "colab": {
          "base_uri": "https://localhost:8080/",
          "height": 330
        },
        "id": "4UebxJ2xWyZZ",
        "outputId": "2e2addb2-347f-4ccc-d05e-2cc016fc6291"
      },
      "outputs": [
        {
          "output_type": "display_data",
          "data": {
            "text/plain": [
              "<Figure size 1152x288 with 2 Axes>"
            ],
            "image/png": "[encoded data removed]"
          },
          "metadata": {
            "needs_background": "light"
          }
        },
        {
          "output_type": "stream",
          "name": "stdout",
          "text": [
            "\n",
            "Skewness Value :  0.5316675402543493\n"
          ]
        }
      ],
      "source": [
        "# Distribution of variable `age`\n",
        "\n",
        "diagnostic_plots(data, 'age')\n",
        "print('\\nSkewness Value : ', data['age'].skew())"
      ]
    },
    {
      "cell_type": "markdown",
      "source": [
        "Terdapat beberapa penduduk berusia di atas 70 tahun yang sudah memasuki usia pensiun jumlahnya paling sedikit diantara usia lainnya. Rata-rata penduduk berusia 38 tahun yang merupakan usia angkatan kerja."
      ],
      "metadata": {
        "id": "givOKhEOxNU1"
      }
    },
    {
      "cell_type": "code",
      "execution_count": 15,
      "metadata": {
        "colab": {
          "base_uri": "https://localhost:8080/",
          "height": 331
        },
        "id": "i7Kd1td9Wh7z",
        "outputId": "83853937-0277-492e-cdab-597c7665f69e"
      },
      "outputs": [
        {
          "output_type": "display_data",
          "data": {
            "text/plain": [
              "<Figure size 1152x288 with 2 Axes>"
            ],
            "image/png": "[encoded data removed]"
          },
          "metadata": {
            "needs_background": "light"
          }
        },
        {
          "output_type": "stream",
          "name": "stdout",
          "text": [
            "\n",
            "Skewness Value :  -0.31025823520678597\n"
          ]
        }
      ],
      "source": [
        "# Distribution of variable `education_num`\n",
        "\n",
        "diagnostic_plots(data, 'education_num')\n",
        "print('\\nSkewness Value : ', data['education_num'].skew())"
      ]
    },
    {
      "cell_type": "markdown",
      "source": [
        "Kebanyakan penduduk merupakan lulusan Sekolah Menengah Atas."
      ],
      "metadata": {
        "id": "mljMGnvuyj1I"
      }
    },
    {
      "cell_type": "code",
      "execution_count": 16,
      "metadata": {
        "colab": {
          "base_uri": "https://localhost:8080/",
          "height": 331
        },
        "id": "Xpj_o6fbWRxd",
        "outputId": "bb0f4087-1423-4d58-ce53-1322024d3e95"
      },
      "outputs": [
        {
          "output_type": "display_data",
          "data": {
            "text/plain": [
              "<Figure size 1152x288 with 2 Axes>"
            ],
            "image/png": "[encoded data removed]"
          },
          "metadata": {
            "needs_background": "light"
          }
        },
        {
          "output_type": "stream",
          "name": "stdout",
          "text": [
            "\n",
            "Skewness Value :  0.3307490496608131\n"
          ]
        }
      ],
      "source": [
        "diagnostic_plots(data, 'hours_per_week')\n",
        "print('\\nSkewness Value : ', data['hours_per_week'].skew())"
      ]
    },
    {
      "cell_type": "markdown",
      "source": [
        "Mayoritas penduduk bekerja selama 40 jam per minggu atau 8 jam sehari jika hari Sabtu dan Minggu tidak bekerja yang kemungkinannya adalah pekerjaan 9-5."
      ],
      "metadata": {
        "id": "Yfgxjwl-y57U"
      }
    },
    {
      "cell_type": "markdown",
      "source": [
        "Selanjutnya, akan dicaritahu pekerjaan yang paling banyak digeluti oleh penduduk"
      ],
      "metadata": {
        "id": "xQkQkP6RzvF7"
      }
    },
    {
      "cell_type": "code",
      "execution_count": 17,
      "metadata": {
        "id": "SMA6Nyq5KhIM"
      },
      "outputs": [],
      "source": [
        "\n",
        "data_occu=data['occupation'].value_counts()"
      ]
    },
    {
      "cell_type": "code",
      "execution_count": 18,
      "metadata": {
        "colab": {
          "base_uri": "https://localhost:8080/",
          "height": 380
        },
        "id": "Zf47apD3ZVKA",
        "outputId": "0e3b8906-f169-45a5-ae2b-a04c47cd5741"
      },
      "outputs": [
        {
          "output_type": "display_data",
          "data": {
            "text/plain": [
              "<Figure size 1152x288 with 1 Axes>"
            ],
            "image/png": "[encoded data removed]"
          },
          "metadata": {
            "needs_background": "light"
          }
        }
      ],
      "source": [
        "data_occu.plot(kind='bar', figsize=(16, 4), color='green')\n",
        "\n",
        "plt.title('Histogram of Occupation') \n",
        "plt.ylabel('Counts') \n",
        "plt.xlabel('Occupations') \n",
        "\n",
        "plt.show()"
      ]
    },
    {
      "cell_type": "code",
      "execution_count": 19,
      "metadata": {
        "colab": {
          "base_uri": "https://localhost:8080/"
        },
        "id": "TDgS-LqSUesC",
        "outputId": "1766743b-4c8e-4ea7-bfe0-85c2b48f9d97"
      },
      "outputs": [
        {
          "output_type": "execute_result",
          "data": {
            "text/plain": [
              "education_num  education    \n",
              "1               Preschool         46\n",
              "2               1st-4th          156\n",
              "3               5th-6th          303\n",
              "4               7th-8th          574\n",
              "5               9th              463\n",
              "6               10th             833\n",
              "7               11th            1057\n",
              "8               12th             393\n",
              "9               HS-grad         9969\n",
              "10              Some-college    6777\n",
              "11              Assoc-voc       1321\n",
              "12              Assoc-acdm      1020\n",
              "13              Bachelors       5182\n",
              "14              Masters         1675\n",
              "15              Prof-school      558\n",
              "16              Doctorate        398\n",
              "dtype: int64"
            ]
          },
          "metadata": {},
          "execution_count": 19
        }
      ],
      "source": [
        "data.groupby([\"education_num\", \"education\"]).size()"
      ]
    },
    {
      "cell_type": "markdown",
      "metadata": {
        "id": "xiwTy9ALUhDZ"
      },
      "source": [
        "Kolom `education_num` melambangkan perkiraan jumlah tahun berdasarkan pendidikan yang ditempuh sehingga `education_num` sendiri sudah cukup untuk merepresentasikan tingkat pendidikan. Agar model berjalan lebih efektif maka kolom `education` akan dihapus."
      ]
    },
    {
      "cell_type": "code",
      "execution_count": 20,
      "metadata": {
        "id": "lTj-cBwGUgVb"
      },
      "outputs": [],
      "source": [
        "# Remove column `education`\n",
        "data.drop(\"education\", inplace=True, axis=1)"
      ]
    },
    {
      "cell_type": "markdown",
      "metadata": {
        "id": "2331Kez0ROQe"
      },
      "source": [
        "# **V. Data Preprocessing**"
      ]
    },
    {
      "cell_type": "code",
      "execution_count": 21,
      "metadata": {
        "id": "thm3DAYwRZtt"
      },
      "outputs": [],
      "source": [
        "# Get data for model inference\n",
        "\n",
        "data_inference = data.sample(15, random_state=63)"
      ]
    },
    {
      "cell_type": "code",
      "execution_count": 22,
      "metadata": {
        "id": "laaJgNIFR723"
      },
      "outputs": [],
      "source": [
        "# Remove inference set from dataset\n",
        "\n",
        "data_train_test = data.drop(data_inference.index)"
      ]
    },
    {
      "cell_type": "code",
      "execution_count": 23,
      "metadata": {
        "id": "_776hRi3SB11"
      },
      "outputs": [],
      "source": [
        "# Reset Index\n",
        "\n",
        "data_train_test.reset_index(drop=True, inplace=True)\n",
        "data_inference.reset_index(drop=True, inplace=True)"
      ]
    },
    {
      "cell_type": "markdown",
      "metadata": {
        "id": "_2NaMd7wRgdB"
      },
      "source": [
        "## **Splitting Between X (Feature) and y (Target)**"
      ]
    },
    {
      "cell_type": "code",
      "execution_count": 24,
      "metadata": {
        "colab": {
          "base_uri": "https://localhost:8080/",
          "height": 374
        },
        "id": "vaI0vt6lT-Q1",
        "outputId": "a0a722c6-ed26-44ab-f98b-7c118bafb86e"
      },
      "outputs": [
        {
          "output_type": "execute_result",
          "data": {
            "text/plain": [
              "   age          workclass  education_num       marital_status occupation  \\\n",
              "0   18       Never-worked             10        Never-married          ?   \n",
              "1   37            Private              8   Married-civ-spouse      Sales   \n",
              "2   39   Self-emp-not-inc              9   Married-civ-spouse      Sales   \n",
              "3   29            Private              9   Married-civ-spouse      Sales   \n",
              "4   64            Private              9   Married-civ-spouse      Sales   \n",
              "\n",
              "  relationship                 race      sex  capital_gain  capital_loss  \\\n",
              "0    Own-child                White     Male             0             0   \n",
              "1         Wife   Asian-Pac-Islander   Female             0             0   \n",
              "2         Wife                Black   Female             0             0   \n",
              "3         Wife                White   Female             0             0   \n",
              "4         Wife                White   Female             0             0   \n",
              "\n",
              "   hours_per_week       native_country  \n",
              "0               4        United-States  \n",
              "1              33                    ?  \n",
              "2              54   Dominican-Republic  \n",
              "3              18        United-States  \n",
              "4              21        United-States  "
            ],
            "text/html": [
              "\n",
              "  <div id=\"df-80087cde-5d47-4083-a6e5-a4f3c30eb5f0\">\n",
              "    <div class=\"colab-df-container\">\n",
              "      <div>\n",
              "<style scoped>\n",
              "    .dataframe tbody tr th:only-of-type {\n",
              "        vertical-align: middle;\n",
              "    }\n",
              "\n",
              "    .dataframe tbody tr th {\n",
              "        vertical-align: top;\n",
              "    }\n",
              "\n",
              "    .dataframe thead th {\n",
              "        text-align: right;\n",
              "    }\n",
              "</style>\n",
              "<table border=\"1\" class=\"dataframe\">\n",
              "  <thead>\n",
              "    <tr style=\"text-align: right;\">\n",
              "      <th></th>\n",
              "      <th>age</th>\n",
              "      <th>workclass</th>\n",
              "      <th>education_num</th>\n",
              "      <th>marital_status</th>\n",
              "      <th>occupation</th>\n",
              "      <th>relationship</th>\n",
              "      <th>race</th>\n",
              "      <th>sex</th>\n",
              "      <th>capital_gain</th>\n",
              "      <th>capital_loss</th>\n",
              "      <th>hours_per_week</th>\n",
              "      <th>native_country</th>\n",
              "    </tr>\n",
              "  </thead>\n",
              "  <tbody>\n",
              "    <tr>\n",
              "      <th>0</th>\n",
              "      <td>18</td>\n",
              "      <td>Never-worked</td>\n",
              "      <td>10</td>\n",
              "      <td>Never-married</td>\n",
              "      <td>?</td>\n",
              "      <td>Own-child</td>\n",
              "      <td>White</td>\n",
              "      <td>Male</td>\n",
              "      <td>0</td>\n",
              "      <td>0</td>\n",
              "      <td>4</td>\n",
              "      <td>United-States</td>\n",
              "    </tr>\n",
              "    <tr>\n",
              "      <th>1</th>\n",
              "      <td>37</td>\n",
              "      <td>Private</td>\n",
              "      <td>8</td>\n",
              "      <td>Married-civ-spouse</td>\n",
              "      <td>Sales</td>\n",
              "      <td>Wife</td>\n",
              "      <td>Asian-Pac-Islander</td>\n",
              "      <td>Female</td>\n",
              "      <td>0</td>\n",
              "      <td>0</td>\n",
              "      <td>33</td>\n",
              "      <td>?</td>\n",
              "    </tr>\n",
              "    <tr>\n",
              "      <th>2</th>\n",
              "      <td>39</td>\n",
              "      <td>Self-emp-not-inc</td>\n",
              "      <td>9</td>\n",
              "      <td>Married-civ-spouse</td>\n",
              "      <td>Sales</td>\n",
              "      <td>Wife</td>\n",
              "      <td>Black</td>\n",
              "      <td>Female</td>\n",
              "      <td>0</td>\n",
              "      <td>0</td>\n",
              "      <td>54</td>\n",
              "      <td>Dominican-Republic</td>\n",
              "    </tr>\n",
              "    <tr>\n",
              "      <th>3</th>\n",
              "      <td>29</td>\n",
              "      <td>Private</td>\n",
              "      <td>9</td>\n",
              "      <td>Married-civ-spouse</td>\n",
              "      <td>Sales</td>\n",
              "      <td>Wife</td>\n",
              "      <td>White</td>\n",
              "      <td>Female</td>\n",
              "      <td>0</td>\n",
              "      <td>0</td>\n",
              "      <td>18</td>\n",
              "      <td>United-States</td>\n",
              "    </tr>\n",
              "    <tr>\n",
              "      <th>4</th>\n",
              "      <td>64</td>\n",
              "      <td>Private</td>\n",
              "      <td>9</td>\n",
              "      <td>Married-civ-spouse</td>\n",
              "      <td>Sales</td>\n",
              "      <td>Wife</td>\n",
              "      <td>White</td>\n",
              "      <td>Female</td>\n",
              "      <td>0</td>\n",
              "      <td>0</td>\n",
              "      <td>21</td>\n",
              "      <td>United-States</td>\n",
              "    </tr>\n",
              "  </tbody>\n",
              "</table>\n",
              "</div>\n",
              "      <button class=\"colab-df-convert\" onclick=\"convertToInteractive('df-80087cde-5d47-4083-a6e5-a4f3c30eb5f0')\"\n",
              "              title=\"Convert this dataframe to an interactive table.\"\n",
              "              style=\"display:none;\">\n",
              "        \n",
              "  <svg xmlns=\"http://www.w3.org/2000/svg\" height=\"24px\"viewBox=\"0 0 24 24\"\n",
              "       width=\"24px\">\n",
              "    <path d=\"M0 0h24v24H0V0z\" fill=\"none\"/>\n",
              "    <path d=\"M18.56 5.44l.94 2.06.94-2.06 2.06-.94-2.06-.94-.94-2.06-.94 2.06-2.06.94zm-11 1L8.5 8.5l.94-2.06 2.06-.94-2.06-.94L8.5 2.5l-.94 2.06-2.06.94zm10 10l.94 2.06.94-2.06 2.06-.94-2.06-.94-.94-2.06-.94 2.06-2.06.94z\"/><path d=\"M17.41 7.96l-1.37-1.37c-.4-.4-.92-.59-1.43-.59-.52 0-1.04.2-1.43.59L10.3 9.45l-7.72 7.72c-.78.78-.78 2.05 0 2.83L4 21.41c.39.39.9.59 1.41.59.51 0 1.02-.2 1.41-.59l7.78-7.78 2.81-2.81c.8-.78.8-2.07 0-2.86zM5.41 20L4 18.59l7.72-7.72 1.47 1.35L5.41 20z\"/>\n",
              "  </svg>\n",
              "      </button>\n",
              "      \n",
              "  <style>\n",
              "    .colab-df-container {\n",
              "      display:flex;\n",
              "      flex-wrap:wrap;\n",
              "      gap: 12px;\n",
              "    }\n",
              "\n",
              "    .colab-df-convert {\n",
              "      background-color: #E8F0FE;\n",
              "      border: none;\n",
              "      border-radius: 50%;\n",
              "      cursor: pointer;\n",
              "      display: none;\n",
              "      fill: #1967D2;\n",
              "      height: 32px;\n",
              "      padding: 0 0 0 0;\n",
              "      width: 32px;\n",
              "    }\n",
              "\n",
              "    .colab-df-convert:hover {\n",
              "      background-color: #E2EBFA;\n",
              "      box-shadow: 0px 1px 2px rgba(60, 64, 67, 0.3), 0px 1px 3px 1px rgba(60, 64, 67, 0.15);\n",
              "      fill: #174EA6;\n",
              "    }\n",
              "\n",
              "    [theme=dark] .colab-df-convert {\n",
              "      background-color: #3B4455;\n",
              "      fill: #D2E3FC;\n",
              "    }\n",
              "\n",
              "    [theme=dark] .colab-df-convert:hover {\n",
              "      background-color: #434B5C;\n",
              "      box-shadow: 0px 1px 3px 1px rgba(0, 0, 0, 0.15);\n",
              "      filter: drop-shadow(0px 1px 2px rgba(0, 0, 0, 0.3));\n",
              "      fill: #FFFFFF;\n",
              "    }\n",
              "  </style>\n",
              "\n",
              "      <script>\n",
              "        const buttonEl =\n",
              "          document.querySelector('#df-80087cde-5d47-4083-a6e5-a4f3c30eb5f0 button.colab-df-convert');\n",
              "        buttonEl.style.display =\n",
              "          google.colab.kernel.accessAllowed ? 'block' : 'none';\n",
              "\n",
              "        async function convertToInteractive(key) {\n",
              "          const element = document.querySelector('#df-80087cde-5d47-4083-a6e5-a4f3c30eb5f0');\n",
              "          const dataTable =\n",
              "            await google.colab.kernel.invokeFunction('convertToInteractive',\n",
              "                                                     [key], {});\n",
              "          if (!dataTable) return;\n",
              "\n",
              "          const docLinkHtml = 'Like what you see? Visit the ' +\n",
              "            '<a target=\"_blank\" href=https://colab.research.google.com/notebooks/data_table.ipynb>data table notebook</a>'\n",
              "            + ' to learn more about interactive tables.';\n",
              "          element.innerHTML = '';\n",
              "          dataTable['output_type'] = 'display_data';\n",
              "          await google.colab.output.renderOutput(dataTable, element);\n",
              "          const docLink = document.createElement('div');\n",
              "          docLink.innerHTML = docLinkHtml;\n",
              "          element.appendChild(docLink);\n",
              "        }\n",
              "      </script>\n",
              "    </div>\n",
              "  </div>\n",
              "  "
            ]
          },
          "metadata": {},
          "execution_count": 24
        }
      ],
      "source": [
        "# Splitting between `X ` AND `y`\n",
        "\n",
        "X = data_train_test.drop(['income_bracket'], axis=1) \n",
        "y = data_train_test['income_bracket']\n",
        "X.head()"
      ]
    },
    {
      "cell_type": "code",
      "execution_count": 25,
      "metadata": {
        "colab": {
          "base_uri": "https://localhost:8080/"
        },
        "id": "gX91KE5MU31O",
        "outputId": "e6425f04-38e1-4265-a77a-adf2a0afb059"
      },
      "outputs": [
        {
          "output_type": "stream",
          "name": "stdout",
          "text": [
            "Train Size:  (24568, 12)\n",
            "Test Size:  (6142, 12)\n"
          ]
        }
      ],
      "source": [
        "# Splitting between Train-Set dengan Test-Set\n",
        "\n",
        "X_train, X_test, y_train, y_test = train_test_split(X, y, test_size=0.2, random_state=7)\n",
        "print('Train Size: ', X_train.shape)\n",
        "print('Test Size: ', X_test.shape)"
      ]
    },
    {
      "cell_type": "markdown",
      "metadata": {
        "id": "jpvkt7TRVboD"
      },
      "source": [
        "## **Handling Outlier**"
      ]
    },
    {
      "cell_type": "code",
      "execution_count": 26,
      "metadata": {
        "colab": {
          "base_uri": "https://localhost:8080/",
          "height": 331
        },
        "id": "lshxfysj3zCX",
        "outputId": "33154319-5720-4089-c2d6-ff795d951cd7"
      },
      "outputs": [
        {
          "output_type": "display_data",
          "data": {
            "text/plain": [
              "<Figure size 1152x288 with 2 Axes>"
            ],
            "image/png": "[encoded data removed]"
          },
          "metadata": {
            "needs_background": "light"
          }
        },
        {
          "output_type": "stream",
          "name": "stdout",
          "text": [
            "\n",
            "Skewness Value :  12.050557801737108\n"
          ]
        }
      ],
      "source": [
        "#Histogram and Boxplot for `capital_gain`\n",
        "diagnostic_plots(X_train, 'capital_gain')\n",
        "print('\\nSkewness Value : ', X_train['capital_gain'].skew())"
      ]
    },
    {
      "cell_type": "code",
      "execution_count": 27,
      "metadata": {
        "colab": {
          "base_uri": "https://localhost:8080/",
          "height": 331
        },
        "id": "AjwITxl44DDZ",
        "outputId": "0842f85d-9a91-4249-c646-f594627266ce"
      },
      "outputs": [
        {
          "output_type": "display_data",
          "data": {
            "text/plain": [
              "<Figure size 1152x288 with 2 Axes>"
            ],
            "image/png": "[encoded data removed]"
          },
          "metadata": {
            "needs_background": "light"
          }
        },
        {
          "output_type": "stream",
          "name": "stdout",
          "text": [
            "\n",
            "Skewness Value :  4.489830569790805\n"
          ]
        }
      ],
      "source": [
        "# Histogram and Boxplot for `capital_loss`\n",
        "diagnostic_plots(X_train, 'capital_loss')\n",
        "print('\\nSkewness Value : ', X_train['capital_loss'].skew())"
      ]
    },
    {
      "cell_type": "markdown",
      "source": [
        "Data `capital_gain` dan `capital_loss` termasuk data yang memiliki outlier yang tinggi. Akan dihitung nilai batas atas dan bawahnya."
      ],
      "metadata": {
        "id": "FTaa--Pv1I6O"
      }
    },
    {
      "cell_type": "code",
      "execution_count": 28,
      "metadata": {
        "id": "lx6kfZyoVYHE"
      },
      "outputs": [],
      "source": [
        "# Function to find upper and lower boundaries for skewed distributed variables\n",
        "\n",
        "def find_skewed_boundaries(df, variable, distance):\n",
        "    IQR = df[variable].quantile(0.75) - df[variable].quantile(0.25)\n",
        "\n",
        "    lower_boundary = df[variable].quantile(0.25) - (IQR * distance)\n",
        "    upper_boundary = df[variable].quantile(0.75) + (IQR * distance)\n",
        "\n",
        "    return upper_boundary, lower_boundary"
      ]
    },
    {
      "cell_type": "code",
      "execution_count": 29,
      "metadata": {
        "colab": {
          "base_uri": "https://localhost:8080/"
        },
        "id": "lGUbLfWdN00x",
        "outputId": "9996a2ab-08f7-4480-b15c-a3a68f8aee99"
      },
      "outputs": [
        {
          "output_type": "stream",
          "name": "stdout",
          "text": [
            "capital_gain_upper_boundary :  0.0\n",
            "capital_gain_lower_boundary :  0.0 \n",
            "\n",
            "capital_loss_upper_boundary :  0.0\n",
            "capital_loss_lower_boundary :  0.0 \n",
            "\n"
          ]
        }
      ],
      "source": [
        "# Boundaries IQR * 1.5, for `capital_gain` in the X_train dataset\n",
        "capital_gain_upper_boundary, capital_gain_lower_boundary = find_skewed_boundaries(X_train, 'capital_gain', 1.5)\n",
        "capital_gain_upper_boundary, capital_gain_lower_boundary\n",
        "\n",
        "# Boundaries IQR * 1.5, for `capital_loss` in the X_train dataset\n",
        "capital_loss_upper_boundary, capital_loss_lower_boundary = find_skewed_boundaries(X_train, 'capital_loss', 1.5)\n",
        "capital_loss_upper_boundary, capital_loss_lower_boundary\n",
        "\n",
        "\n",
        "print('capital_gain_upper_boundary : ', capital_gain_upper_boundary)\n",
        "print('capital_gain_lower_boundary : ', capital_gain_lower_boundary, '\\n')\n",
        "print('capital_loss_upper_boundary : ', capital_loss_upper_boundary)\n",
        "print('capital_loss_lower_boundary : ', capital_loss_lower_boundary, '\\n')\n",
        "\n"
      ]
    },
    {
      "cell_type": "markdown",
      "source": [
        "Batas atas dan batas bawahnya adalah 0. Hal tersebut wajar karena tidak semua orang memiliki aset finansial yang dapat digunakan untuk inveatasi baik jangka pendek maupun panjang.\n",
        "<br>\n",
        "Nilai outlier pada kolom `age`, `education_num`, dan `hours_per_week` selanjutnya akan disensor (capping) menggunakan Winsorizer."
      ],
      "metadata": {
        "id": "ihBx7gBN1ecE"
      }
    },
    {
      "cell_type": "code",
      "execution_count": 30,
      "metadata": {
        "id": "aBCDZmGyPswg"
      },
      "outputs": [],
      "source": [
        "# Create the capper\n",
        "\n",
        "winsorize = Winsorizer(capping_method='iqr', # choose iqr for IQR rule boundaries or gaussian for mean and std\n",
        "                          tail='both', # cap left, right or both tails \n",
        "                          fold=1.5,\n",
        "                          variables=['age', 'education_num', 'hours_per_week'])\n",
        "\n",
        "winsorize.fit(X_train)\n",
        "\n",
        "X_train_cap = winsorize.transform(X_train)\n",
        "X_test_cap = winsorize.transform(X_test)"
      ]
    },
    {
      "cell_type": "code",
      "execution_count": 31,
      "metadata": {
        "colab": {
          "base_uri": "https://localhost:8080/"
        },
        "id": "3TfvmVsuWDJw",
        "outputId": "651eda0f-35c8-40e2-98d5-25758f3e1eb5"
      },
      "outputs": [
        {
          "output_type": "stream",
          "name": "stdout",
          "text": [
            "Left Tail Caps  :  {'age': -0.5, 'education_num': 3.0, 'hours_per_week': 32.5}\n",
            "Right Tail Caps :  {'age': 75.5, 'education_num': 19.0, 'hours_per_week': 52.5}\n"
          ]
        }
      ],
      "source": [
        "# Inspect the minimum caps for each variable\n",
        "print('Left Tail Caps  : ', winsorize.left_tail_caps_)\n",
        "\n",
        "# Iinspect the maximum caps for each variable\n",
        "print('Right Tail Caps : ', winsorize.right_tail_caps_)"
      ]
    },
    {
      "cell_type": "code",
      "execution_count": 32,
      "metadata": {
        "colab": {
          "base_uri": "https://localhost:8080/"
        },
        "id": "SNjbp4iHWeCW",
        "outputId": "f3541002-9019-4848-c236-736ae65c3462"
      },
      "outputs": [
        {
          "output_type": "stream",
          "name": "stdout",
          "text": [
            "X_train - Before Capping\n",
            "                age  education_num  capital_gain  capital_loss  hours_per_week\n",
            "count  24568.000000   24568.000000  24568.000000  24568.000000    24568.000000\n",
            "mean      38.414319      10.136519   1071.052385     90.318015       40.873779\n",
            "std       13.107015       2.559681   7305.343391    409.120613       12.011385\n",
            "min       17.000000       1.000000      0.000000      0.000000        1.000000\n",
            "25%       28.000000       9.000000      0.000000      0.000000       40.000000\n",
            "50%       37.000000      10.000000      0.000000      0.000000       40.000000\n",
            "75%       47.000000      13.000000      0.000000      0.000000       45.000000\n",
            "max       90.000000      16.000000  99999.000000   4356.000000       99.000000\n",
            "\n",
            "X_train - After Capping\n",
            "                age  education_num  capital_gain  capital_loss  hours_per_week\n",
            "count  24568.000000   24568.000000  24568.000000  24568.000000    24568.000000\n",
            "mean      38.380637      10.144334   1071.052385     90.318015       41.398140\n",
            "std       12.997989       2.535699   7305.343391    409.120613        6.150649\n",
            "min       17.000000       3.000000      0.000000      0.000000       32.500000\n",
            "25%       28.000000       9.000000      0.000000      0.000000       40.000000\n",
            "50%       37.000000      10.000000      0.000000      0.000000       40.000000\n",
            "75%       47.000000      13.000000      0.000000      0.000000       45.000000\n",
            "max       75.500000      16.000000  99999.000000   4356.000000       52.500000\n",
            "\n",
            "\n",
            "X_test - Before Capping\n",
            "               age  education_num  capital_gain  capital_loss  hours_per_week\n",
            "count  6142.000000    6142.000000   6142.000000   6142.000000     6142.000000\n",
            "mean     38.542983      10.101921   1246.748779     83.072940       41.231358\n",
            "std      13.169026       2.574922   8226.410836    390.996665       11.885919\n",
            "min      17.000000       1.000000      0.000000      0.000000        2.000000\n",
            "25%      28.000000       9.000000      0.000000      0.000000       40.000000\n",
            "50%      37.000000      10.000000      0.000000      0.000000       40.000000\n",
            "75%      47.000000      13.000000      0.000000      0.000000       45.000000\n",
            "max      90.000000      16.000000  99999.000000   2824.000000       99.000000\n",
            "\n",
            "X_test - After Capping\n",
            "               age  education_num  capital_gain  capital_loss  hours_per_week\n",
            "count  6142.000000    6142.000000   6142.000000   6142.000000     6142.000000\n",
            "mean     38.509850      10.111039   1246.748779     83.072940       41.532644\n",
            "std      13.062394       2.547074   8226.410836    390.996665        6.126226\n",
            "min      17.000000       3.000000      0.000000      0.000000       32.500000\n",
            "25%      28.000000       9.000000      0.000000      0.000000       40.000000\n",
            "50%      37.000000      10.000000      0.000000      0.000000       40.000000\n",
            "75%      47.000000      13.000000      0.000000      0.000000       45.000000\n",
            "max      75.500000      16.000000  99999.000000   2824.000000       52.500000\n"
          ]
        }
      ],
      "source": [
        "print('X_train - Before Capping')\n",
        "print(X_train.describe())\n",
        "print('')\n",
        "print('X_train - After Capping')\n",
        "print(X_train_cap.describe())\n",
        "print('')\n",
        "print('')\n",
        "print('X_test - Before Capping')\n",
        "print(X_test.describe())\n",
        "print('')\n",
        "print('X_test - After Capping')\n",
        "print(X_test_cap.describe())"
      ]
    },
    {
      "cell_type": "code",
      "execution_count": 33,
      "metadata": {
        "colab": {
          "base_uri": "https://localhost:8080/",
          "height": 677
        },
        "id": "krhLMStcyyyt",
        "outputId": "2b9dc75e-9b8a-4ed7-9700-608b3d96c0d9"
      },
      "outputs": [
        {
          "output_type": "stream",
          "name": "stdout",
          "text": [
            "Age in `X_train` - Before Capping\n"
          ]
        },
        {
          "output_type": "display_data",
          "data": {
            "text/plain": [
              "<Figure size 1152x288 with 2 Axes>"
            ],
            "image/png": "[encoded data removed]"
          },
          "metadata": {
            "needs_background": "light"
          }
        },
        {
          "output_type": "stream",
          "name": "stdout",
          "text": [
            "Skewness Value :  0.5326053324001083 \n",
            "\n",
            "\n",
            "Age in `X_train` - After Capping\n"
          ]
        },
        {
          "output_type": "display_data",
          "data": {
            "text/plain": [
              "<Figure size 1152x288 with 2 Axes>"
            ],
            "image/png": "[encoded data removed]"
          },
          "metadata": {
            "needs_background": "light"
          }
        },
        {
          "output_type": "stream",
          "name": "stdout",
          "text": [
            "Skewness Value :  0.4710701903845404\n"
          ]
        }
      ],
      "source": [
        "print('Age in `X_train` - Before Capping')\n",
        "diagnostic_plots(X_train, 'age')\n",
        "print('Skewness Value : ', X_train['age'].skew(), '\\n')\n",
        "print('')\n",
        "print('Age in `X_train` - After Capping')\n",
        "diagnostic_plots(X_train_cap, 'age')\n",
        "print('Skewness Value : ', X_train_cap['age'].skew())\n"
      ]
    },
    {
      "cell_type": "code",
      "execution_count": 34,
      "metadata": {
        "colab": {
          "base_uri": "https://localhost:8080/",
          "height": 679
        },
        "id": "m5O7SZYSzBsO",
        "outputId": "177d27d1-1a69-4f26-a784-a8cac5ae3712"
      },
      "outputs": [
        {
          "output_type": "stream",
          "name": "stdout",
          "text": [
            "Estimated Year of Education in `X_train` - Before Capping\n"
          ]
        },
        {
          "output_type": "display_data",
          "data": {
            "text/plain": [
              "<Figure size 1152x288 with 2 Axes>"
            ],
            "image/png": "[encoded data removed]"
          },
          "metadata": {
            "needs_background": "light"
          }
        },
        {
          "output_type": "stream",
          "name": "stdout",
          "text": [
            "Skewness Value :  -0.30153958978674766 \n",
            "\n",
            "\n",
            "Estimated Year of Education in `X_train` - After Capping\n"
          ]
        },
        {
          "output_type": "display_data",
          "data": {
            "text/plain": [
              "<Figure size 1152x288 with 2 Axes>"
            ],
            "image/png": "[encoded data removed]"
          },
          "metadata": {
            "needs_background": "light"
          }
        },
        {
          "output_type": "stream",
          "name": "stdout",
          "text": [
            "Skewness Value :  -0.23128935499320247\n"
          ]
        }
      ],
      "source": [
        "print('Estimated Year of Education in `X_train` - Before Capping')\n",
        "diagnostic_plots(X_train, 'education_num')\n",
        "print('Skewness Value : ', X_train['education_num'].skew(), '\\n')\n",
        "print('')\n",
        "print('Estimated Year of Education in `X_train` - After Capping')\n",
        "diagnostic_plots(X_train_cap, 'education_num')\n",
        "print('Skewness Value : ', X_train_cap['education_num'].skew())\n"
      ]
    },
    {
      "cell_type": "code",
      "execution_count": 35,
      "metadata": {
        "colab": {
          "base_uri": "https://localhost:8080/",
          "height": 697
        },
        "id": "dbbtLzI4287k",
        "outputId": "af75fc55-5a08-441c-b401-0d46b8e1ad65"
      },
      "outputs": [
        {
          "output_type": "stream",
          "name": "stdout",
          "text": [
            "Hours per Week of Work in `X_train` - Before Capping\n"
          ]
        },
        {
          "output_type": "display_data",
          "data": {
            "text/plain": [
              "<Figure size 1152x288 with 2 Axes>"
            ],
            "image/png": "[encoded data removed]"
          },
          "metadata": {
            "needs_background": "light"
          }
        },
        {
          "output_type": "stream",
          "name": "stdout",
          "text": [
            "\n",
            "Skewness Value :  0.3106727361168121 \n",
            "\n",
            "\n",
            "Hours per Week of Work in `X_train` - After Capping\n"
          ]
        },
        {
          "output_type": "display_data",
          "data": {
            "text/plain": [
              "<Figure size 1152x288 with 2 Axes>"
            ],
            "image/png": "[encoded data removed]"
          },
          "metadata": {
            "needs_background": "light"
          }
        },
        {
          "output_type": "stream",
          "name": "stdout",
          "text": [
            "Skewness Value :  0.41811980385803266\n"
          ]
        }
      ],
      "source": [
        "print('Hours per Week of Work in `X_train` - Before Capping')\n",
        "diagnostic_plots(X_train, 'hours_per_week')\n",
        "print('\\nSkewness Value : ', X_train['hours_per_week'].skew(), '\\n')\n",
        "print('')\n",
        "print('Hours per Week of Work in `X_train` - After Capping')\n",
        "diagnostic_plots(X_train_cap, 'hours_per_week')\n",
        "print('Skewness Value : ', X_train_cap['hours_per_week'].skew())\n"
      ]
    },
    {
      "cell_type": "markdown",
      "source": [
        "Tiga kolom dengan outlier telah dilakukan capping dan persebaran data sudah normal."
      ],
      "metadata": {
        "id": "KwOEKwiH39um"
      }
    },
    {
      "cell_type": "markdown",
      "metadata": {
        "id": "x6FFezbb7HfD"
      },
      "source": [
        "## **Handling Missing Values**"
      ]
    },
    {
      "cell_type": "code",
      "execution_count": 36,
      "metadata": {
        "colab": {
          "base_uri": "https://localhost:8080/"
        },
        "id": "hAFSoW7FxIEl",
        "outputId": "6cb37aae-132c-44a6-fa6f-58875acbc13a"
      },
      "outputs": [
        {
          "output_type": "execute_result",
          "data": {
            "text/plain": [
              "age               0\n",
              "workclass         0\n",
              "education_num     0\n",
              "marital_status    0\n",
              "occupation        0\n",
              "relationship      0\n",
              "race              0\n",
              "sex               0\n",
              "capital_gain      0\n",
              "capital_loss      0\n",
              "hours_per_week    0\n",
              "native_country    0\n",
              "dtype: int64"
            ]
          },
          "metadata": {},
          "execution_count": 36
        }
      ],
      "source": [
        "X_train_cap.isna().sum()"
      ]
    },
    {
      "cell_type": "code",
      "execution_count": 37,
      "metadata": {
        "colab": {
          "base_uri": "https://localhost:8080/"
        },
        "id": "gkRvq8VHIBhk",
        "outputId": "668766dd-fb57-4f5e-d2b5-8c334df58c10"
      },
      "outputs": [
        {
          "output_type": "execute_result",
          "data": {
            "text/plain": [
              "age               0\n",
              "workclass         0\n",
              "education_num     0\n",
              "marital_status    0\n",
              "occupation        0\n",
              "relationship      0\n",
              "race              0\n",
              "sex               0\n",
              "capital_gain      0\n",
              "capital_loss      0\n",
              "hours_per_week    0\n",
              "native_country    0\n",
              "dtype: int64"
            ]
          },
          "metadata": {},
          "execution_count": 37
        }
      ],
      "source": [
        "X_test.isna().sum()"
      ]
    },
    {
      "cell_type": "code",
      "execution_count": 38,
      "metadata": {
        "colab": {
          "base_uri": "https://localhost:8080/"
        },
        "id": "wV-QXTajIHXW",
        "outputId": "a048b927-1d31-4a9d-a4de-063cd1228497"
      },
      "outputs": [
        {
          "output_type": "execute_result",
          "data": {
            "text/plain": [
              "0"
            ]
          },
          "metadata": {},
          "execution_count": 38
        }
      ],
      "source": [
        "y_train.isna().sum()"
      ]
    },
    {
      "cell_type": "code",
      "execution_count": 39,
      "metadata": {
        "colab": {
          "base_uri": "https://localhost:8080/"
        },
        "id": "HdeU0n2fII6T",
        "outputId": "835d2421-9960-4891-bca8-dc6153d6c004"
      },
      "outputs": [
        {
          "output_type": "execute_result",
          "data": {
            "text/plain": [
              "0"
            ]
          },
          "metadata": {},
          "execution_count": 39
        }
      ],
      "source": [
        "y_test.isna().sum()"
      ]
    },
    {
      "cell_type": "markdown",
      "metadata": {
        "id": "o6pVzgeFIQ08"
      },
      "source": [
        "Nilai '?' tidak terdeteksi sebagai missing value. Hal tersebut kemungkinan karena adanya karakter yang tersembunyi."
      ]
    },
    {
      "cell_type": "markdown",
      "metadata": {
        "id": "x3V-zesnjFX9"
      },
      "source": [
        "## **Split Columns**"
      ]
    },
    {
      "cell_type": "code",
      "execution_count": 40,
      "metadata": {
        "colab": {
          "base_uri": "https://localhost:8080/"
        },
        "id": "UvzABdzPjOnA",
        "outputId": "d47c3ef3-e661-4cdf-fca2-11c11a21b578"
      },
      "outputs": [
        {
          "output_type": "stream",
          "name": "stdout",
          "text": [
            "Numerical Columns   :  ['age', 'education_num', 'capital_gain', 'capital_loss', 'hours_per_week']\n",
            "Categorical Columns :  ['workclass', 'marital_status', 'occupation', 'relationship', 'race', 'sex', 'native_country']\n"
          ]
        }
      ],
      "source": [
        "# Get Numerical Columns and Categorical Columns\n",
        "\n",
        "numerical = X_train_cap.select_dtypes(include=np.number).columns.tolist()\n",
        "categorical = X_train_cap.select_dtypes(include=['object']).columns.tolist()\n",
        "\n",
        "print('Numerical Columns   : ', numerical)\n",
        "print('Categorical Columns : ', categorical)"
      ]
    },
    {
      "cell_type": "code",
      "execution_count": 41,
      "metadata": {
        "colab": {
          "base_uri": "https://localhost:8080/",
          "height": 206
        },
        "id": "37F78fjVkLu1",
        "outputId": "b39865cc-12aa-402a-bd46-5ba42d48a387"
      },
      "outputs": [
        {
          "output_type": "execute_result",
          "data": {
            "text/plain": [
              "        age  education_num  capital_gain  capital_loss  hours_per_week\n",
              "20818  26.0            9.0             0             0            40.0\n",
              "18478  35.0           13.0             0             0            40.0\n",
              "19972  51.0            9.0             0             0            40.0\n",
              "18900  19.0           10.0             0             0            40.0\n",
              "12493  44.0           11.0          7688             0            40.0"
            ],
            "text/html": [
              "\n",
              "  <div id=\"df-705cde71-c58d-4f86-825e-51b76eec4d74\">\n",
              "    <div class=\"colab-df-container\">\n",
              "      <div>\n",
              "<style scoped>\n",
              "    .dataframe tbody tr th:only-of-type {\n",
              "        vertical-align: middle;\n",
              "    }\n",
              "\n",
              "    .dataframe tbody tr th {\n",
              "        vertical-align: top;\n",
              "    }\n",
              "\n",
              "    .dataframe thead th {\n",
              "        text-align: right;\n",
              "    }\n",
              "</style>\n",
              "<table border=\"1\" class=\"dataframe\">\n",
              "  <thead>\n",
              "    <tr style=\"text-align: right;\">\n",
              "      <th></th>\n",
              "      <th>age</th>\n",
              "      <th>education_num</th>\n",
              "      <th>capital_gain</th>\n",
              "      <th>capital_loss</th>\n",
              "      <th>hours_per_week</th>\n",
              "    </tr>\n",
              "  </thead>\n",
              "  <tbody>\n",
              "    <tr>\n",
              "      <th>20818</th>\n",
              "      <td>26.0</td>\n",
              "      <td>9.0</td>\n",
              "      <td>0</td>\n",
              "      <td>0</td>\n",
              "      <td>40.0</td>\n",
              "    </tr>\n",
              "    <tr>\n",
              "      <th>18478</th>\n",
              "      <td>35.0</td>\n",
              "      <td>13.0</td>\n",
              "      <td>0</td>\n",
              "      <td>0</td>\n",
              "      <td>40.0</td>\n",
              "    </tr>\n",
              "    <tr>\n",
              "      <th>19972</th>\n",
              "      <td>51.0</td>\n",
              "      <td>9.0</td>\n",
              "      <td>0</td>\n",
              "      <td>0</td>\n",
              "      <td>40.0</td>\n",
              "    </tr>\n",
              "    <tr>\n",
              "      <th>18900</th>\n",
              "      <td>19.0</td>\n",
              "      <td>10.0</td>\n",
              "      <td>0</td>\n",
              "      <td>0</td>\n",
              "      <td>40.0</td>\n",
              "    </tr>\n",
              "    <tr>\n",
              "      <th>12493</th>\n",
              "      <td>44.0</td>\n",
              "      <td>11.0</td>\n",
              "      <td>7688</td>\n",
              "      <td>0</td>\n",
              "      <td>40.0</td>\n",
              "    </tr>\n",
              "  </tbody>\n",
              "</table>\n",
              "</div>\n",
              "      <button class=\"colab-df-convert\" onclick=\"convertToInteractive('df-705cde71-c58d-4f86-825e-51b76eec4d74')\"\n",
              "              title=\"Convert this dataframe to an interactive table.\"\n",
              "              style=\"display:none;\">\n",
              "        \n",
              "  <svg xmlns=\"http://www.w3.org/2000/svg\" height=\"24px\"viewBox=\"0 0 24 24\"\n",
              "       width=\"24px\">\n",
              "    <path d=\"M0 0h24v24H0V0z\" fill=\"none\"/>\n",
              "    <path d=\"M18.56 5.44l.94 2.06.94-2.06 2.06-.94-2.06-.94-.94-2.06-.94 2.06-2.06.94zm-11 1L8.5 8.5l.94-2.06 2.06-.94-2.06-.94L8.5 2.5l-.94 2.06-2.06.94zm10 10l.94 2.06.94-2.06 2.06-.94-2.06-.94-.94-2.06-.94 2.06-2.06.94z\"/><path d=\"M17.41 7.96l-1.37-1.37c-.4-.4-.92-.59-1.43-.59-.52 0-1.04.2-1.43.59L10.3 9.45l-7.72 7.72c-.78.78-.78 2.05 0 2.83L4 21.41c.39.39.9.59 1.41.59.51 0 1.02-.2 1.41-.59l7.78-7.78 2.81-2.81c.8-.78.8-2.07 0-2.86zM5.41 20L4 18.59l7.72-7.72 1.47 1.35L5.41 20z\"/>\n",
              "  </svg>\n",
              "      </button>\n",
              "      \n",
              "  <style>\n",
              "    .colab-df-container {\n",
              "      display:flex;\n",
              "      flex-wrap:wrap;\n",
              "      gap: 12px;\n",
              "    }\n",
              "\n",
              "    .colab-df-convert {\n",
              "      background-color: #E8F0FE;\n",
              "      border: none;\n",
              "      border-radius: 50%;\n",
              "      cursor: pointer;\n",
              "      display: none;\n",
              "      fill: #1967D2;\n",
              "      height: 32px;\n",
              "      padding: 0 0 0 0;\n",
              "      width: 32px;\n",
              "    }\n",
              "\n",
              "    .colab-df-convert:hover {\n",
              "      background-color: #E2EBFA;\n",
              "      box-shadow: 0px 1px 2px rgba(60, 64, 67, 0.3), 0px 1px 3px 1px rgba(60, 64, 67, 0.15);\n",
              "      fill: #174EA6;\n",
              "    }\n",
              "\n",
              "    [theme=dark] .colab-df-convert {\n",
              "      background-color: #3B4455;\n",
              "      fill: #D2E3FC;\n",
              "    }\n",
              "\n",
              "    [theme=dark] .colab-df-convert:hover {\n",
              "      background-color: #434B5C;\n",
              "      box-shadow: 0px 1px 3px 1px rgba(0, 0, 0, 0.15);\n",
              "      filter: drop-shadow(0px 1px 2px rgba(0, 0, 0, 0.3));\n",
              "      fill: #FFFFFF;\n",
              "    }\n",
              "  </style>\n",
              "\n",
              "      <script>\n",
              "        const buttonEl =\n",
              "          document.querySelector('#df-705cde71-c58d-4f86-825e-51b76eec4d74 button.colab-df-convert');\n",
              "        buttonEl.style.display =\n",
              "          google.colab.kernel.accessAllowed ? 'block' : 'none';\n",
              "\n",
              "        async function convertToInteractive(key) {\n",
              "          const element = document.querySelector('#df-705cde71-c58d-4f86-825e-51b76eec4d74');\n",
              "          const dataTable =\n",
              "            await google.colab.kernel.invokeFunction('convertToInteractive',\n",
              "                                                     [key], {});\n",
              "          if (!dataTable) return;\n",
              "\n",
              "          const docLinkHtml = 'Like what you see? Visit the ' +\n",
              "            '<a target=\"_blank\" href=https://colab.research.google.com/notebooks/data_table.ipynb>data table notebook</a>'\n",
              "            + ' to learn more about interactive tables.';\n",
              "          element.innerHTML = '';\n",
              "          dataTable['output_type'] = 'display_data';\n",
              "          await google.colab.output.renderOutput(dataTable, element);\n",
              "          const docLink = document.createElement('div');\n",
              "          docLink.innerHTML = docLinkHtml;\n",
              "          element.appendChild(docLink);\n",
              "        }\n",
              "      </script>\n",
              "    </div>\n",
              "  </div>\n",
              "  "
            ]
          },
          "metadata": {},
          "execution_count": 41
        }
      ],
      "source": [
        "# Split Train-Set and Test-Set based on Column Types\n",
        "\n",
        "X_train_num = X_train_cap[numerical]\n",
        "X_test_num = X_test[numerical]\n",
        "\n",
        "X_train_cat = X_train_cap[categorical]\n",
        "X_test_cat = X_test[categorical]\n",
        "\n",
        "X_train_num.head(5)"
      ]
    },
    {
      "cell_type": "markdown",
      "metadata": {
        "id": "DlL79UMcJeiM"
      },
      "source": [
        "## **Feature Selection**"
      ]
    },
    {
      "cell_type": "markdown",
      "metadata": {
        "id": "W59okA_Cps__"
      },
      "source": [
        "## **Feature Scaling & Feature Encoding**"
      ]
    },
    {
      "cell_type": "code",
      "execution_count": 42,
      "metadata": {
        "colab": {
          "base_uri": "https://localhost:8080/"
        },
        "id": "ffUO1w2_hLyz",
        "outputId": "b6239746-71a4-4708-c393-0a4b566225da"
      },
      "outputs": [
        {
          "output_type": "execute_result",
          "data": {
            "text/plain": [
              "array([[0.15384615, 0.46153846, 0.        , 0.        , 0.375     ],\n",
              "       [0.30769231, 0.76923077, 0.        , 0.        , 0.375     ],\n",
              "       [0.58119658, 0.46153846, 0.        , 0.        , 0.375     ],\n",
              "       ...,\n",
              "       [0.22222222, 0.61538462, 0.        , 0.        , 0.375     ],\n",
              "       [0.23931624, 0.53846154, 0.        , 0.        , 0.875     ],\n",
              "       [0.17094017, 0.76923077, 0.        , 0.        , 1.        ]])"
            ]
          },
          "metadata": {},
          "execution_count": 42
        }
      ],
      "source": [
        "# prepare input data\n",
        "scaler = MinMaxScaler()\n",
        "X_train_num_enc = scaler.fit_transform(X_train_num)\n",
        "X_test_num_enc = scaler.transform(X_test_num)\n",
        "X_train_num_enc"
      ]
    },
    {
      "cell_type": "code",
      "execution_count": 43,
      "metadata": {
        "colab": {
          "base_uri": "https://localhost:8080/"
        },
        "id": "Xa8jU4bzkbJU",
        "outputId": "16889490-6f49-427b-b39b-5b14c7611adf"
      },
      "outputs": [
        {
          "output_type": "execute_result",
          "data": {
            "text/plain": [
              "array([[0., 0., 0., ..., 1., 0., 0.],\n",
              "       [0., 0., 0., ..., 1., 0., 0.],\n",
              "       [0., 1., 0., ..., 1., 0., 0.],\n",
              "       ...,\n",
              "       [0., 0., 0., ..., 1., 0., 0.],\n",
              "       [0., 0., 0., ..., 1., 0., 0.],\n",
              "       [0., 0., 0., ..., 1., 0., 0.]])"
            ]
          },
          "metadata": {},
          "execution_count": 43
        }
      ],
      "source": [
        "ohe = OneHotEncoder(handle_unknown='ignore', sparse=False)\n",
        "X_train_cat_enc = ohe.fit_transform(X_train_cat)\n",
        "X_test_cat_enc = ohe.transform(X_test_cat)\n",
        "X_train_cat_enc"
      ]
    },
    {
      "cell_type": "code",
      "execution_count": 44,
      "metadata": {
        "id": "h9IgAA9cxs-j"
      },
      "outputs": [],
      "source": [
        "b = ohe.get_feature_names_out()"
      ]
    },
    {
      "cell_type": "markdown",
      "metadata": {
        "id": "z3z-6TVlumJP"
      },
      "source": [
        "## **Concate between Numerical Columns and Categorical Columns**"
      ]
    },
    {
      "cell_type": "code",
      "execution_count": 45,
      "metadata": {
        "colab": {
          "base_uri": "https://localhost:8080/"
        },
        "id": "r715WtNbulGs",
        "outputId": "c9806d8d-299e-4a02-de18-206671bc5ee4"
      },
      "outputs": [
        {
          "output_type": "execute_result",
          "data": {
            "text/plain": [
              "array([[0.15384615, 0.46153846, 0.        , ..., 1.        , 0.        ,\n",
              "        0.        ],\n",
              "       [0.30769231, 0.76923077, 0.        , ..., 1.        , 0.        ,\n",
              "        0.        ],\n",
              "       [0.58119658, 0.46153846, 0.        , ..., 1.        , 0.        ,\n",
              "        0.        ],\n",
              "       ...,\n",
              "       [0.22222222, 0.61538462, 0.        , ..., 1.        , 0.        ,\n",
              "        0.        ],\n",
              "       [0.23931624, 0.53846154, 0.        , ..., 1.        , 0.        ,\n",
              "        0.        ],\n",
              "       [0.17094017, 0.76923077, 0.        , ..., 1.        , 0.        ,\n",
              "        0.        ]])"
            ]
          },
          "metadata": {},
          "execution_count": 45
        }
      ],
      "source": [
        "X_train_final = np.concatenate([X_train_num_enc, X_train_cat_enc], axis=1)\n",
        "X_test_final = np.concatenate([X_test_num_enc, X_test_cat_enc], axis=1)\n",
        "X_train_final"
      ]
    },
    {
      "cell_type": "code",
      "execution_count": 46,
      "metadata": {
        "colab": {
          "base_uri": "https://localhost:8080/",
          "height": 424
        },
        "id": "yAAayvIZu8Aw",
        "outputId": "514444d9-0a71-4fe7-ab73-003ae84f540c"
      },
      "outputs": [
        {
          "output_type": "execute_result",
          "data": {
            "text/plain": [
              "             0         1         2    3      4    5    6    7    8    9   ...  \\\n",
              "0      0.153846  0.461538  0.000000  0.0  0.375  0.0  0.0  0.0  1.0  0.0  ...   \n",
              "1      0.307692  0.769231  0.000000  0.0  0.375  0.0  0.0  0.0  1.0  0.0  ...   \n",
              "2      0.581197  0.461538  0.000000  0.0  0.375  0.0  1.0  0.0  0.0  0.0  ...   \n",
              "3      0.034188  0.538462  0.000000  0.0  0.375  0.0  0.0  0.0  1.0  0.0  ...   \n",
              "4      0.461538  0.615385  0.076881  0.0  0.375  0.0  1.0  0.0  0.0  0.0  ...   \n",
              "...         ...       ...       ...  ...    ...  ...  ...  ...  ...  ...  ...   \n",
              "24563  0.239316  0.538462  0.000000  0.0  0.000  0.0  0.0  0.0  1.0  0.0  ...   \n",
              "24564  0.427350  0.461538  0.000000  0.0  0.375  0.0  0.0  0.0  1.0  0.0  ...   \n",
              "24565  0.222222  0.615385  0.000000  0.0  0.375  0.0  0.0  0.0  1.0  0.0  ...   \n",
              "24566  0.239316  0.538462  0.000000  0.0  0.875  0.0  0.0  0.0  1.0  0.0  ...   \n",
              "24567  0.170940  0.769231  0.000000  0.0  1.000  0.0  0.0  0.0  1.0  0.0  ...   \n",
              "\n",
              "        79   80   81   82   83   84   85   86   87   88  \n",
              "0      0.0  0.0  0.0  0.0  0.0  0.0  0.0  1.0  0.0  0.0  \n",
              "1      0.0  0.0  0.0  0.0  0.0  0.0  0.0  1.0  0.0  0.0  \n",
              "2      0.0  0.0  0.0  0.0  0.0  0.0  0.0  1.0  0.0  0.0  \n",
              "3      0.0  0.0  0.0  0.0  0.0  0.0  0.0  1.0  0.0  0.0  \n",
              "4      0.0  0.0  0.0  0.0  0.0  0.0  0.0  1.0  0.0  0.0  \n",
              "...    ...  ...  ...  ...  ...  ...  ...  ...  ...  ...  \n",
              "24563  0.0  0.0  0.0  0.0  0.0  0.0  0.0  1.0  0.0  0.0  \n",
              "24564  0.0  0.0  0.0  0.0  0.0  0.0  0.0  1.0  0.0  0.0  \n",
              "24565  0.0  0.0  0.0  0.0  0.0  0.0  0.0  1.0  0.0  0.0  \n",
              "24566  0.0  0.0  0.0  0.0  0.0  0.0  0.0  1.0  0.0  0.0  \n",
              "24567  0.0  0.0  0.0  0.0  0.0  0.0  0.0  1.0  0.0  0.0  \n",
              "\n",
              "[24568 rows x 89 columns]"
            ],
            "text/html": [
              "\n",
              "  <div id=\"df-7ecfaa83-ade8-4f9f-a448-f173cdadbcea\">\n",
              "    <div class=\"colab-df-container\">\n",
              "      <div>\n",
              "<style scoped>\n",
              "    .dataframe tbody tr th:only-of-type {\n",
              "        vertical-align: middle;\n",
              "    }\n",
              "\n",
              "    .dataframe tbody tr th {\n",
              "        vertical-align: top;\n",
              "    }\n",
              "\n",
              "    .dataframe thead th {\n",
              "        text-align: right;\n",
              "    }\n",
              "</style>\n",
              "<table border=\"1\" class=\"dataframe\">\n",
              "  <thead>\n",
              "    <tr style=\"text-align: right;\">\n",
              "      <th></th>\n",
              "      <th>0</th>\n",
              "      <th>1</th>\n",
              "      <th>2</th>\n",
              "      <th>3</th>\n",
              "      <th>4</th>\n",
              "      <th>5</th>\n",
              "      <th>6</th>\n",
              "      <th>7</th>\n",
              "      <th>8</th>\n",
              "      <th>9</th>\n",
              "      <th>...</th>\n",
              "      <th>79</th>\n",
              "      <th>80</th>\n",
              "      <th>81</th>\n",
              "      <th>82</th>\n",
              "      <th>83</th>\n",
              "      <th>84</th>\n",
              "      <th>85</th>\n",
              "      <th>86</th>\n",
              "      <th>87</th>\n",
              "      <th>88</th>\n",
              "    </tr>\n",
              "  </thead>\n",
              "  <tbody>\n",
              "    <tr>\n",
              "      <th>0</th>\n",
              "      <td>0.153846</td>\n",
              "      <td>0.461538</td>\n",
              "      <td>0.000000</td>\n",
              "      <td>0.0</td>\n",
              "      <td>0.375</td>\n",
              "      <td>0.0</td>\n",
              "      <td>0.0</td>\n",
              "      <td>0.0</td>\n",
              "      <td>1.0</td>\n",
              "      <td>0.0</td>\n",
              "      <td>...</td>\n",
              "      <td>0.0</td>\n",
              "      <td>0.0</td>\n",
              "      <td>0.0</td>\n",
              "      <td>0.0</td>\n",
              "      <td>0.0</td>\n",
              "      <td>0.0</td>\n",
              "      <td>0.0</td>\n",
              "      <td>1.0</td>\n",
              "      <td>0.0</td>\n",
              "      <td>0.0</td>\n",
              "    </tr>\n",
              "    <tr>\n",
              "      <th>1</th>\n",
              "      <td>0.307692</td>\n",
              "      <td>0.769231</td>\n",
              "      <td>0.000000</td>\n",
              "      <td>0.0</td>\n",
              "      <td>0.375</td>\n",
              "      <td>0.0</td>\n",
              "      <td>0.0</td>\n",
              "      <td>0.0</td>\n",
              "      <td>1.0</td>\n",
              "      <td>0.0</td>\n",
              "      <td>...</td>\n",
              "      <td>0.0</td>\n",
              "      <td>0.0</td>\n",
              "      <td>0.0</td>\n",
              "      <td>0.0</td>\n",
              "      <td>0.0</td>\n",
              "      <td>0.0</td>\n",
              "      <td>0.0</td>\n",
              "      <td>1.0</td>\n",
              "      <td>0.0</td>\n",
              "      <td>0.0</td>\n",
              "    </tr>\n",
              "    <tr>\n",
              "      <th>2</th>\n",
              "      <td>0.581197</td>\n",
              "      <td>0.461538</td>\n",
              "      <td>0.000000</td>\n",
              "      <td>0.0</td>\n",
              "      <td>0.375</td>\n",
              "      <td>0.0</td>\n",
              "      <td>1.0</td>\n",
              "      <td>0.0</td>\n",
              "      <td>0.0</td>\n",
              "      <td>0.0</td>\n",
              "      <td>...</td>\n",
              "      <td>0.0</td>\n",
              "      <td>0.0</td>\n",
              "      <td>0.0</td>\n",
              "      <td>0.0</td>\n",
              "      <td>0.0</td>\n",
              "      <td>0.0</td>\n",
              "      <td>0.0</td>\n",
              "      <td>1.0</td>\n",
              "      <td>0.0</td>\n",
              "      <td>0.0</td>\n",
              "    </tr>\n",
              "    <tr>\n",
              "      <th>3</th>\n",
              "      <td>0.034188</td>\n",
              "      <td>0.538462</td>\n",
              "      <td>0.000000</td>\n",
              "      <td>0.0</td>\n",
              "      <td>0.375</td>\n",
              "      <td>0.0</td>\n",
              "      <td>0.0</td>\n",
              "      <td>0.0</td>\n",
              "      <td>1.0</td>\n",
              "      <td>0.0</td>\n",
              "      <td>...</td>\n",
              "      <td>0.0</td>\n",
              "      <td>0.0</td>\n",
              "      <td>0.0</td>\n",
              "      <td>0.0</td>\n",
              "      <td>0.0</td>\n",
              "      <td>0.0</td>\n",
              "      <td>0.0</td>\n",
              "      <td>1.0</td>\n",
              "      <td>0.0</td>\n",
              "      <td>0.0</td>\n",
              "    </tr>\n",
              "    <tr>\n",
              "      <th>4</th>\n",
              "      <td>0.461538</td>\n",
              "      <td>0.615385</td>\n",
              "      <td>0.076881</td>\n",
              "      <td>0.0</td>\n",
              "      <td>0.375</td>\n",
              "      <td>0.0</td>\n",
              "      <td>1.0</td>\n",
              "      <td>0.0</td>\n",
              "      <td>0.0</td>\n",
              "      <td>0.0</td>\n",
              "      <td>...</td>\n",
              "      <td>0.0</td>\n",
              "      <td>0.0</td>\n",
              "      <td>0.0</td>\n",
              "      <td>0.0</td>\n",
              "      <td>0.0</td>\n",
              "      <td>0.0</td>\n",
              "      <td>0.0</td>\n",
              "      <td>1.0</td>\n",
              "      <td>0.0</td>\n",
              "      <td>0.0</td>\n",
              "    </tr>\n",
              "    <tr>\n",
              "      <th>...</th>\n",
              "      <td>...</td>\n",
              "      <td>...</td>\n",
              "      <td>...</td>\n",
              "      <td>...</td>\n",
              "      <td>...</td>\n",
              "      <td>...</td>\n",
              "      <td>...</td>\n",
              "      <td>...</td>\n",
              "      <td>...</td>\n",
              "      <td>...</td>\n",
              "      <td>...</td>\n",
              "      <td>...</td>\n",
              "      <td>...</td>\n",
              "      <td>...</td>\n",
              "      <td>...</td>\n",
              "      <td>...</td>\n",
              "      <td>...</td>\n",
              "      <td>...</td>\n",
              "      <td>...</td>\n",
              "      <td>...</td>\n",
              "      <td>...</td>\n",
              "    </tr>\n",
              "    <tr>\n",
              "      <th>24563</th>\n",
              "      <td>0.239316</td>\n",
              "      <td>0.538462</td>\n",
              "      <td>0.000000</td>\n",
              "      <td>0.0</td>\n",
              "      <td>0.000</td>\n",
              "      <td>0.0</td>\n",
              "      <td>0.0</td>\n",
              "      <td>0.0</td>\n",
              "      <td>1.0</td>\n",
              "      <td>0.0</td>\n",
              "      <td>...</td>\n",
              "      <td>0.0</td>\n",
              "      <td>0.0</td>\n",
              "      <td>0.0</td>\n",
              "      <td>0.0</td>\n",
              "      <td>0.0</td>\n",
              "      <td>0.0</td>\n",
              "      <td>0.0</td>\n",
              "      <td>1.0</td>\n",
              "      <td>0.0</td>\n",
              "      <td>0.0</td>\n",
              "    </tr>\n",
              "    <tr>\n",
              "      <th>24564</th>\n",
              "      <td>0.427350</td>\n",
              "      <td>0.461538</td>\n",
              "      <td>0.000000</td>\n",
              "      <td>0.0</td>\n",
              "      <td>0.375</td>\n",
              "      <td>0.0</td>\n",
              "      <td>0.0</td>\n",
              "      <td>0.0</td>\n",
              "      <td>1.0</td>\n",
              "      <td>0.0</td>\n",
              "      <td>...</td>\n",
              "      <td>0.0</td>\n",
              "      <td>0.0</td>\n",
              "      <td>0.0</td>\n",
              "      <td>0.0</td>\n",
              "      <td>0.0</td>\n",
              "      <td>0.0</td>\n",
              "      <td>0.0</td>\n",
              "      <td>1.0</td>\n",
              "      <td>0.0</td>\n",
              "      <td>0.0</td>\n",
              "    </tr>\n",
              "    <tr>\n",
              "      <th>24565</th>\n",
              "      <td>0.222222</td>\n",
              "      <td>0.615385</td>\n",
              "      <td>0.000000</td>\n",
              "      <td>0.0</td>\n",
              "      <td>0.375</td>\n",
              "      <td>0.0</td>\n",
              "      <td>0.0</td>\n",
              "      <td>0.0</td>\n",
              "      <td>1.0</td>\n",
              "      <td>0.0</td>\n",
              "      <td>...</td>\n",
              "      <td>0.0</td>\n",
              "      <td>0.0</td>\n",
              "      <td>0.0</td>\n",
              "      <td>0.0</td>\n",
              "      <td>0.0</td>\n",
              "      <td>0.0</td>\n",
              "      <td>0.0</td>\n",
              "      <td>1.0</td>\n",
              "      <td>0.0</td>\n",
              "      <td>0.0</td>\n",
              "    </tr>\n",
              "    <tr>\n",
              "      <th>24566</th>\n",
              "      <td>0.239316</td>\n",
              "      <td>0.538462</td>\n",
              "      <td>0.000000</td>\n",
              "      <td>0.0</td>\n",
              "      <td>0.875</td>\n",
              "      <td>0.0</td>\n",
              "      <td>0.0</td>\n",
              "      <td>0.0</td>\n",
              "      <td>1.0</td>\n",
              "      <td>0.0</td>\n",
              "      <td>...</td>\n",
              "      <td>0.0</td>\n",
              "      <td>0.0</td>\n",
              "      <td>0.0</td>\n",
              "      <td>0.0</td>\n",
              "      <td>0.0</td>\n",
              "      <td>0.0</td>\n",
              "      <td>0.0</td>\n",
              "      <td>1.0</td>\n",
              "      <td>0.0</td>\n",
              "      <td>0.0</td>\n",
              "    </tr>\n",
              "    <tr>\n",
              "      <th>24567</th>\n",
              "      <td>0.170940</td>\n",
              "      <td>0.769231</td>\n",
              "      <td>0.000000</td>\n",
              "      <td>0.0</td>\n",
              "      <td>1.000</td>\n",
              "      <td>0.0</td>\n",
              "      <td>0.0</td>\n",
              "      <td>0.0</td>\n",
              "      <td>1.0</td>\n",
              "      <td>0.0</td>\n",
              "      <td>...</td>\n",
              "      <td>0.0</td>\n",
              "      <td>0.0</td>\n",
              "      <td>0.0</td>\n",
              "      <td>0.0</td>\n",
              "      <td>0.0</td>\n",
              "      <td>0.0</td>\n",
              "      <td>0.0</td>\n",
              "      <td>1.0</td>\n",
              "      <td>0.0</td>\n",
              "      <td>0.0</td>\n",
              "    </tr>\n",
              "  </tbody>\n",
              "</table>\n",
              "<p>24568 rows × 89 columns</p>\n",
              "</div>\n",
              "      <button class=\"colab-df-convert\" onclick=\"convertToInteractive('df-7ecfaa83-ade8-4f9f-a448-f173cdadbcea')\"\n",
              "              title=\"Convert this dataframe to an interactive table.\"\n",
              "              style=\"display:none;\">\n",
              "        \n",
              "  <svg xmlns=\"http://www.w3.org/2000/svg\" height=\"24px\"viewBox=\"0 0 24 24\"\n",
              "       width=\"24px\">\n",
              "    <path d=\"M0 0h24v24H0V0z\" fill=\"none\"/>\n",
              "    <path d=\"M18.56 5.44l.94 2.06.94-2.06 2.06-.94-2.06-.94-.94-2.06-.94 2.06-2.06.94zm-11 1L8.5 8.5l.94-2.06 2.06-.94-2.06-.94L8.5 2.5l-.94 2.06-2.06.94zm10 10l.94 2.06.94-2.06 2.06-.94-2.06-.94-.94-2.06-.94 2.06-2.06.94z\"/><path d=\"M17.41 7.96l-1.37-1.37c-.4-.4-.92-.59-1.43-.59-.52 0-1.04.2-1.43.59L10.3 9.45l-7.72 7.72c-.78.78-.78 2.05 0 2.83L4 21.41c.39.39.9.59 1.41.59.51 0 1.02-.2 1.41-.59l7.78-7.78 2.81-2.81c.8-.78.8-2.07 0-2.86zM5.41 20L4 18.59l7.72-7.72 1.47 1.35L5.41 20z\"/>\n",
              "  </svg>\n",
              "      </button>\n",
              "      \n",
              "  <style>\n",
              "    .colab-df-container {\n",
              "      display:flex;\n",
              "      flex-wrap:wrap;\n",
              "      gap: 12px;\n",
              "    }\n",
              "\n",
              "    .colab-df-convert {\n",
              "      background-color: #E8F0FE;\n",
              "      border: none;\n",
              "      border-radius: 50%;\n",
              "      cursor: pointer;\n",
              "      display: none;\n",
              "      fill: #1967D2;\n",
              "      height: 32px;\n",
              "      padding: 0 0 0 0;\n",
              "      width: 32px;\n",
              "    }\n",
              "\n",
              "    .colab-df-convert:hover {\n",
              "      background-color: #E2EBFA;\n",
              "      box-shadow: 0px 1px 2px rgba(60, 64, 67, 0.3), 0px 1px 3px 1px rgba(60, 64, 67, 0.15);\n",
              "      fill: #174EA6;\n",
              "    }\n",
              "\n",
              "    [theme=dark] .colab-df-convert {\n",
              "      background-color: #3B4455;\n",
              "      fill: #D2E3FC;\n",
              "    }\n",
              "\n",
              "    [theme=dark] .colab-df-convert:hover {\n",
              "      background-color: #434B5C;\n",
              "      box-shadow: 0px 1px 3px 1px rgba(0, 0, 0, 0.15);\n",
              "      filter: drop-shadow(0px 1px 2px rgba(0, 0, 0, 0.3));\n",
              "      fill: #FFFFFF;\n",
              "    }\n",
              "  </style>\n",
              "\n",
              "      <script>\n",
              "        const buttonEl =\n",
              "          document.querySelector('#df-7ecfaa83-ade8-4f9f-a448-f173cdadbcea button.colab-df-convert');\n",
              "        buttonEl.style.display =\n",
              "          google.colab.kernel.accessAllowed ? 'block' : 'none';\n",
              "\n",
              "        async function convertToInteractive(key) {\n",
              "          const element = document.querySelector('#df-7ecfaa83-ade8-4f9f-a448-f173cdadbcea');\n",
              "          const dataTable =\n",
              "            await google.colab.kernel.invokeFunction('convertToInteractive',\n",
              "                                                     [key], {});\n",
              "          if (!dataTable) return;\n",
              "\n",
              "          const docLinkHtml = 'Like what you see? Visit the ' +\n",
              "            '<a target=\"_blank\" href=https://colab.research.google.com/notebooks/data_table.ipynb>data table notebook</a>'\n",
              "            + ' to learn more about interactive tables.';\n",
              "          element.innerHTML = '';\n",
              "          dataTable['output_type'] = 'display_data';\n",
              "          await google.colab.output.renderOutput(dataTable, element);\n",
              "          const docLink = document.createElement('div');\n",
              "          docLink.innerHTML = docLinkHtml;\n",
              "          element.appendChild(docLink);\n",
              "        }\n",
              "      </script>\n",
              "    </div>\n",
              "  </div>\n",
              "  "
            ]
          },
          "metadata": {},
          "execution_count": 46
        }
      ],
      "source": [
        "# Create DataFrame of `X_train_final`\n",
        "\n",
        "X_train_final_df = pd.DataFrame(X_train_final)\n",
        "X_train_final_df"
      ]
    },
    {
      "cell_type": "markdown",
      "metadata": {
        "id": "BTX-ntKWyBM5"
      },
      "source": [
        "# **VI. Logistic Regression**"
      ]
    },
    {
      "cell_type": "markdown",
      "source": [
        "Data target merupakan data categorical maka digunakan logistic regression atau logit."
      ],
      "metadata": {
        "id": "YcstxtDn4w6v"
      }
    },
    {
      "cell_type": "code",
      "execution_count": 47,
      "metadata": {
        "id": "oHYBSLdcyAsX"
      },
      "outputs": [],
      "source": [
        "# Model Definition\n",
        "\n",
        "logreg_model = LogisticRegression(C=0.07, fit_intercept=True)"
      ]
    },
    {
      "cell_type": "code",
      "execution_count": 48,
      "metadata": {
        "colab": {
          "base_uri": "https://localhost:8080/"
        },
        "id": "LpTuwH5i9PZq",
        "outputId": "64c4c2cb-ca3b-4199-eaef-3b01b022ead1"
      },
      "outputs": [
        {
          "output_type": "execute_result",
          "data": {
            "text/plain": [
              "LogisticRegression(C=0.07)"
            ]
          },
          "metadata": {},
          "execution_count": 48
        }
      ],
      "source": [
        "# Train the Model\n",
        "\n",
        "logreg_model.fit(X_train_final,y_train)"
      ]
    },
    {
      "cell_type": "code",
      "execution_count": 49,
      "metadata": {
        "id": "4M65yOKr9ZwL"
      },
      "outputs": [],
      "source": [
        "# Predict Train-Set and Test-Set \n",
        "\n",
        "logreg_pred_train = logreg_model.predict(X_train_final)\n",
        "logreg_pred_test = logreg_model.predict(X_test_final)"
      ]
    },
    {
      "cell_type": "code",
      "execution_count": 50,
      "metadata": {
        "colab": {
          "base_uri": "https://localhost:8080/"
        },
        "id": "deTPAnLY9pwW",
        "outputId": "76253f77-610d-455f-bee5-98effcc6f472"
      },
      "outputs": [
        {
          "output_type": "execute_result",
          "data": {
            "text/plain": [
              "array([[0.82203579, 0.17796421],\n",
              "       [0.97207834, 0.02792166],\n",
              "       [0.85438591, 0.14561409],\n",
              "       ...,\n",
              "       [0.55134733, 0.44865267],\n",
              "       [0.16948118, 0.83051882],\n",
              "       [0.39620187, 0.60379813]])"
            ]
          },
          "metadata": {},
          "execution_count": 50
        }
      ],
      "source": [
        "#Predict Probability\n",
        "\n",
        "prob=logreg_model.predict_proba(X_test_final)\n",
        "prob"
      ]
    },
    {
      "cell_type": "code",
      "execution_count": 51,
      "metadata": {
        "colab": {
          "base_uri": "https://localhost:8080/"
        },
        "id": "U1KuP4Kw-4DT",
        "outputId": "39bc2b6c-e6f3-4006-8439-9483bd984751"
      },
      "outputs": [
        {
          "output_type": "stream",
          "name": "stdout",
          "text": [
            "accuracy score train :  0.8382448713774014\n",
            "accuracy score test :  0.8323021816997721\n"
          ]
        }
      ],
      "source": [
        "# Model Evaluation\n",
        "print('accuracy score train : ',accuracy_score(y_train,logreg_pred_train))\n",
        "print('accuracy score test : ',accuracy_score(y_test,logreg_pred_test))"
      ]
    },
    {
      "cell_type": "code",
      "execution_count": 52,
      "metadata": {
        "colab": {
          "base_uri": "https://localhost:8080/",
          "height": 279
        },
        "id": "YwGf4zvo_MSU",
        "outputId": "db3aaba5-abef-43b8-b109-72e20181dda1"
      },
      "outputs": [
        {
          "output_type": "display_data",
          "data": {
            "text/plain": [
              "<Figure size 432x288 with 2 Axes>"
            ],
            "image/png": "[encoded data removed]"
          },
          "metadata": {
            "needs_background": "light"
          }
        }
      ],
      "source": [
        "# Confusion Matrix for `y_train`\n",
        "\n",
        "cm = confusion_matrix(y_train, logreg_pred_train, labels=logreg_model.classes_)\n",
        "disp = ConfusionMatrixDisplay(confusion_matrix=cm,display_labels=logreg_model.classes_)\n",
        "\n",
        "disp.plot()\n",
        "plt.show()"
      ]
    },
    {
      "cell_type": "code",
      "execution_count": 53,
      "metadata": {
        "colab": {
          "base_uri": "https://localhost:8080/",
          "height": 279
        },
        "id": "iacX2tEy--8A",
        "outputId": "35a98981-ebb4-4ee8-9852-3e4556413a80"
      },
      "outputs": [
        {
          "output_type": "display_data",
          "data": {
            "text/plain": [
              "<Figure size 432x288 with 2 Axes>"
            ],
            "image/png": "[encoded data removed]"
          },
          "metadata": {
            "needs_background": "light"
          }
        }
      ],
      "source": [
        "# Confusion Matrix for `y_test`\n",
        "\n",
        "cm = confusion_matrix(y_test, logreg_pred_test, labels=logreg_model.classes_)\n",
        "disp = ConfusionMatrixDisplay(confusion_matrix=cm,display_labels=logreg_model.classes_)\n",
        "\n",
        "disp.plot()\n",
        "plt.show()"
      ]
    },
    {
      "cell_type": "code",
      "execution_count": 54,
      "metadata": {
        "colab": {
          "base_uri": "https://localhost:8080/"
        },
        "id": "ZQzhLWWWASjr",
        "outputId": "93fabe20-59d6-4401-8961-24176e612cd5"
      },
      "outputs": [
        {
          "output_type": "stream",
          "name": "stdout",
          "text": [
            "              precision    recall  f1-score   support\n",
            "\n",
            "       <=50K       0.87      0.93      0.90     18480\n",
            "        >50K       0.72      0.57      0.63      6088\n",
            "\n",
            "    accuracy                           0.84     24568\n",
            "   macro avg       0.79      0.75      0.77     24568\n",
            "weighted avg       0.83      0.84      0.83     24568\n",
            "\n"
          ]
        }
      ],
      "source": [
        "# Classification Report for `y-train`\n",
        "\n",
        "print(classification_report(y_train,logreg_pred_train))"
      ]
    },
    {
      "cell_type": "code",
      "execution_count": 55,
      "metadata": {
        "colab": {
          "base_uri": "https://localhost:8080/"
        },
        "id": "FVcrUWUOAbOW",
        "outputId": "a565ea05-b2af-4746-b192-f6c82361852e"
      },
      "outputs": [
        {
          "output_type": "stream",
          "name": "stdout",
          "text": [
            "              precision    recall  f1-score   support\n",
            "\n",
            "       <=50K       0.87      0.91      0.89      4585\n",
            "        >50K       0.70      0.59      0.64      1557\n",
            "\n",
            "    accuracy                           0.83      6142\n",
            "   macro avg       0.78      0.75      0.77      6142\n",
            "weighted avg       0.83      0.83      0.83      6142\n",
            "\n"
          ]
        }
      ],
      "source": [
        "# Classification Report for `y-test`\n",
        "print(classification_report(y_test,logreg_pred_test))"
      ]
    },
    {
      "cell_type": "markdown",
      "source": [
        "Pada kelas <=50K pada data test, tingkat keberhasilan dalam memprediksi penduduk dengan kategori penghasilan dengan benar mencapai 87%, tingkat kegagalan masih cukup tinggi yaitu sebesar 13% penduduk yang diprediksi berada di kategori penghasilan <=50K ternyata bukan merupakan penduduk dalam kategori pendapatan tersebut (False Positive). Sementara itu terdapat 30% penduduk yang seharusnya masuk ke kelas pendapatan <=50K ternyata berdasarkan hasil prediksi berada pada kelas pendapatan >50K. \n",
        "<br>\n",
        "<br>\n",
        "Persentase kesalahan prediksi yang masih cukup tinggi tentu saja mengkhawatirkan apabila data kelas pendapatan ini kemudian akan digunakan sebagai acuan dalam memberikan bantuan finansial. Penduduk yang seharusnya tidak mendapatkan bantuan karena berpenghasilan tinggi justru menerima bantuan. Hal tersebut tentunya akan sangat merugikan karena bantuan menjadi tidak tepat sasaran.\n",
        "<br>\n",
        "<br>\n",
        "Berdasarkan nilai akurasi antara data train data test, data masih tegolong good-fit. "
      ],
      "metadata": {
        "id": "EbQb9J2M_x7H"
      }
    },
    {
      "cell_type": "markdown",
      "metadata": {
        "id": "495sxShyBMzt"
      },
      "source": [
        "# **VII. SVM**"
      ]
    },
    {
      "cell_type": "code",
      "execution_count": 71,
      "metadata": {
        "id": "-dDieGRqB8xx"
      },
      "outputs": [],
      "source": [
        "# Model Definition\n",
        "\n",
        "model = SVC(C=10.0, kernel='rbf', degree=3, random_state=72)"
      ]
    },
    {
      "cell_type": "code",
      "execution_count": 72,
      "metadata": {
        "colab": {
          "base_uri": "https://localhost:8080/"
        },
        "id": "VIT56naeGdZX",
        "outputId": "97cc62d5-cc8a-4962-9149-ed1f806c2f10"
      },
      "outputs": [
        {
          "output_type": "execute_result",
          "data": {
            "text/plain": [
              "SVC(C=10.0, random_state=72)"
            ]
          },
          "metadata": {},
          "execution_count": 72
        }
      ],
      "source": [
        "# Model Training\n",
        "\n",
        "model.fit(X_train_final, y_train)"
      ]
    },
    {
      "cell_type": "code",
      "execution_count": 73,
      "metadata": {
        "id": "lVGExKHeGyfi"
      },
      "outputs": [],
      "source": [
        "# Predict Train-Set and Test-Set \n",
        "\n",
        "y_pred_train = model.predict(X_train_final)\n",
        "y_pred_test = model.predict(X_test_final)"
      ]
    },
    {
      "cell_type": "code",
      "execution_count": 74,
      "metadata": {
        "colab": {
          "base_uri": "https://localhost:8080/"
        },
        "id": "1gOQJZFyH5LB",
        "outputId": "ebcad19d-dbba-40a8-9145-0e586cb1dbaf"
      },
      "outputs": [
        {
          "output_type": "stream",
          "name": "stdout",
          "text": [
            "              precision    recall  f1-score   support\n",
            "\n",
            "       <=50K       0.89      0.94      0.91     18480\n",
            "        >50K       0.78      0.64      0.70      6088\n",
            "\n",
            "    accuracy                           0.87     24568\n",
            "   macro avg       0.83      0.79      0.81     24568\n",
            "weighted avg       0.86      0.87      0.86     24568\n",
            "\n"
          ]
        }
      ],
      "source": [
        "# Classification Report for `y-train`\n",
        "print(classification_report(y_train, y_pred_train))"
      ]
    },
    {
      "cell_type": "code",
      "execution_count": 75,
      "metadata": {
        "colab": {
          "base_uri": "https://localhost:8080/"
        },
        "id": "LDIKw53kH3Mu",
        "outputId": "1b384512-482c-4ba4-ccc7-adbe1c59b59c"
      },
      "outputs": [
        {
          "output_type": "stream",
          "name": "stdout",
          "text": [
            "              precision    recall  f1-score   support\n",
            "\n",
            "       <=50K       0.87      0.93      0.90      4585\n",
            "        >50K       0.75      0.59      0.66      1557\n",
            "\n",
            "    accuracy                           0.84      6142\n",
            "   macro avg       0.81      0.76      0.78      6142\n",
            "weighted avg       0.84      0.84      0.84      6142\n",
            "\n"
          ]
        }
      ],
      "source": [
        "# Classification Report for `y-test`\n",
        "print(classification_report(y_test, y_pred_test))"
      ]
    },
    {
      "cell_type": "markdown",
      "source": [
        "Penggunaan model SVM dengan nilai C (Regularization parameter) sebesar 10 menghasilkan nilai precision yang lebih tinggi pada data train dibandingkan dengan model logistic regression. Namun untuk hasil tes justru tidak jauh berbeda, sehingga model tergolong overfit."
      ],
      "metadata": {
        "id": "Ouxya9OaRvpz"
      }
    },
    {
      "cell_type": "code",
      "execution_count": null,
      "metadata": {
        "id": "3HEzMeOcNmJt"
      },
      "outputs": [],
      "source": [
        "#Hyperparameter Tuning using GridSearchCV\n",
        "parameters = {\n",
        "    'kernel': ['rbf', 'poly', 'sigmoid'],\n",
        "    'C': [0.5, 1, 10, 100],\n",
        "    'gamma': ['scale', 1, 0.1, 0.01, 0.001]\n",
        "}\n",
        "\n",
        "grid_search = GridSearchCV(estimator=SVC(random_state=0),\n",
        "                           param_grid=parameters,\n",
        "                           n_jobs=6,\n",
        "                           verbose=1,\n",
        "                           scoring='accuracy')\n",
        "grid_search.fit(X_train_final, y_train)"
      ]
    },
    {
      "cell_type": "code",
      "source": [
        "print(f'Best Score: {grid_search.best_score_}')\n",
        "\n",
        "best_params = grid_search.best_estimator_.get_params()\n",
        "print(f'Best Parameters:')\n",
        "for param in parameters:\n",
        "  print(f'\\t{param}: {best_params[param]}')"
      ],
      "metadata": {
        "id": "FYZGlddzYUYJ"
      },
      "execution_count": null,
      "outputs": []
    },
    {
      "cell_type": "markdown",
      "source": [
        "# **VII. Model Saving & Loading**"
      ],
      "metadata": {
        "id": "JotHLep4KL2Q"
      }
    },
    {
      "cell_type": "code",
      "source": [
        "# Save the Files\n",
        "\n",
        "import joblib\n",
        "import json\n",
        "\n",
        "with open('model_log_reg.pkl', 'wb') as file_1:\n",
        "  joblib.dump(logreg_model, file_1)\n",
        "\n",
        "with open('model_svm.pkl', 'wb') as file_2:\n",
        "  joblib.dump(model, file_2)\n",
        "\n",
        "with open('model_scaler.pkl', 'wb') as file_3:\n",
        "  joblib.dump(scaler, file_3)\n",
        "\n",
        "with open('model_encoder.pkl', 'wb') as file_4:\n",
        "  joblib.dump(ohe, file_4)\n",
        "\n",
        "with open('list_num_cols.txt', 'w') as file_5:\n",
        "  json.dump(numerical, file_5)\n",
        "\n",
        "with open('list_cat_cols.txt', 'w') as file_6:\n",
        "  json.dump(categorical, file_6)"
      ],
      "metadata": {
        "id": "SX4-jDUJKXgu"
      },
      "execution_count": 76,
      "outputs": []
    },
    {
      "cell_type": "code",
      "source": [
        "# Load All Files\n",
        "\n",
        "import joblib\n",
        "import json\n",
        "\n",
        "with open('model_log_reg.pkl', 'rb') as file_1:\n",
        "  logreg_model = joblib.load(file_1)\n",
        "\n",
        "with open('model_svm.pkl', 'rb') as file_2:\n",
        "  model = joblib.load(file_2)\n",
        "\n",
        "with open('model_scaler.pkl', 'rb') as file_3:\n",
        "  scaler = joblib.load(file_3)\n",
        "\n",
        "with open('model_encoder.pkl', 'rb') as file_4:\n",
        "  ohe = joblib.load(file_4)\n",
        "\n",
        "with open('list_num_cols.txt', 'r') as file_5:\n",
        "  numerical = json.load(file_5)\n",
        "\n",
        "with open('list_cat_cols.txt', 'r') as file_6:\n",
        "  categorical = json.load(file_6)"
      ],
      "metadata": {
        "id": "CiNSqdjRLe6t"
      },
      "execution_count": 77,
      "outputs": []
    },
    {
      "cell_type": "markdown",
      "source": [
        "# **IX. Model Inference**"
      ],
      "metadata": {
        "id": "z1PnFECbMGeD"
      }
    },
    {
      "cell_type": "code",
      "source": [
        "# Split between Numerical Columns and Categorical Columns\n",
        "\n",
        "data_inf_num = data_inference[numerical]\n",
        "data_inf_cat = data_inference[categorical]\n",
        "\n",
        "data_inf_num.head()"
      ],
      "metadata": {
        "colab": {
          "base_uri": "https://localhost:8080/",
          "height": 206
        },
        "id": "BuECGoQZK9i0",
        "outputId": "e4b2d72e-ec62-4300-d41f-18e9219e6955"
      },
      "execution_count": 80,
      "outputs": [
        {
          "output_type": "execute_result",
          "data": {
            "text/plain": [
              "   age  education_num  capital_gain  capital_loss  hours_per_week\n",
              "0   39              9             0             0              40\n",
              "1   21              5             0             0              50\n",
              "2   27             13             0             0              40\n",
              "3   28              6             0             0              35\n",
              "4   21             10             0             0              40"
            ],
            "text/html": [
              "\n",
              "  <div id=\"df-1acb7aee-8329-44eb-8c36-0600d37d65c3\">\n",
              "    <div class=\"colab-df-container\">\n",
              "      <div>\n",
              "<style scoped>\n",
              "    .dataframe tbody tr th:only-of-type {\n",
              "        vertical-align: middle;\n",
              "    }\n",
              "\n",
              "    .dataframe tbody tr th {\n",
              "        vertical-align: top;\n",
              "    }\n",
              "\n",
              "    .dataframe thead th {\n",
              "        text-align: right;\n",
              "    }\n",
              "</style>\n",
              "<table border=\"1\" class=\"dataframe\">\n",
              "  <thead>\n",
              "    <tr style=\"text-align: right;\">\n",
              "      <th></th>\n",
              "      <th>age</th>\n",
              "      <th>education_num</th>\n",
              "      <th>capital_gain</th>\n",
              "      <th>capital_loss</th>\n",
              "      <th>hours_per_week</th>\n",
              "    </tr>\n",
              "  </thead>\n",
              "  <tbody>\n",
              "    <tr>\n",
              "      <th>0</th>\n",
              "      <td>39</td>\n",
              "      <td>9</td>\n",
              "      <td>0</td>\n",
              "      <td>0</td>\n",
              "      <td>40</td>\n",
              "    </tr>\n",
              "    <tr>\n",
              "      <th>1</th>\n",
              "      <td>21</td>\n",
              "      <td>5</td>\n",
              "      <td>0</td>\n",
              "      <td>0</td>\n",
              "      <td>50</td>\n",
              "    </tr>\n",
              "    <tr>\n",
              "      <th>2</th>\n",
              "      <td>27</td>\n",
              "      <td>13</td>\n",
              "      <td>0</td>\n",
              "      <td>0</td>\n",
              "      <td>40</td>\n",
              "    </tr>\n",
              "    <tr>\n",
              "      <th>3</th>\n",
              "      <td>28</td>\n",
              "      <td>6</td>\n",
              "      <td>0</td>\n",
              "      <td>0</td>\n",
              "      <td>35</td>\n",
              "    </tr>\n",
              "    <tr>\n",
              "      <th>4</th>\n",
              "      <td>21</td>\n",
              "      <td>10</td>\n",
              "      <td>0</td>\n",
              "      <td>0</td>\n",
              "      <td>40</td>\n",
              "    </tr>\n",
              "  </tbody>\n",
              "</table>\n",
              "</div>\n",
              "      <button class=\"colab-df-convert\" onclick=\"convertToInteractive('df-1acb7aee-8329-44eb-8c36-0600d37d65c3')\"\n",
              "              title=\"Convert this dataframe to an interactive table.\"\n",
              "              style=\"display:none;\">\n",
              "        \n",
              "  <svg xmlns=\"http://www.w3.org/2000/svg\" height=\"24px\"viewBox=\"0 0 24 24\"\n",
              "       width=\"24px\">\n",
              "    <path d=\"M0 0h24v24H0V0z\" fill=\"none\"/>\n",
              "    <path d=\"M18.56 5.44l.94 2.06.94-2.06 2.06-.94-2.06-.94-.94-2.06-.94 2.06-2.06.94zm-11 1L8.5 8.5l.94-2.06 2.06-.94-2.06-.94L8.5 2.5l-.94 2.06-2.06.94zm10 10l.94 2.06.94-2.06 2.06-.94-2.06-.94-.94-2.06-.94 2.06-2.06.94z\"/><path d=\"M17.41 7.96l-1.37-1.37c-.4-.4-.92-.59-1.43-.59-.52 0-1.04.2-1.43.59L10.3 9.45l-7.72 7.72c-.78.78-.78 2.05 0 2.83L4 21.41c.39.39.9.59 1.41.59.51 0 1.02-.2 1.41-.59l7.78-7.78 2.81-2.81c.8-.78.8-2.07 0-2.86zM5.41 20L4 18.59l7.72-7.72 1.47 1.35L5.41 20z\"/>\n",
              "  </svg>\n",
              "      </button>\n",
              "      \n",
              "  <style>\n",
              "    .colab-df-container {\n",
              "      display:flex;\n",
              "      flex-wrap:wrap;\n",
              "      gap: 12px;\n",
              "    }\n",
              "\n",
              "    .colab-df-convert {\n",
              "      background-color: #E8F0FE;\n",
              "      border: none;\n",
              "      border-radius: 50%;\n",
              "      cursor: pointer;\n",
              "      display: none;\n",
              "      fill: #1967D2;\n",
              "      height: 32px;\n",
              "      padding: 0 0 0 0;\n",
              "      width: 32px;\n",
              "    }\n",
              "\n",
              "    .colab-df-convert:hover {\n",
              "      background-color: #E2EBFA;\n",
              "      box-shadow: 0px 1px 2px rgba(60, 64, 67, 0.3), 0px 1px 3px 1px rgba(60, 64, 67, 0.15);\n",
              "      fill: #174EA6;\n",
              "    }\n",
              "\n",
              "    [theme=dark] .colab-df-convert {\n",
              "      background-color: #3B4455;\n",
              "      fill: #D2E3FC;\n",
              "    }\n",
              "\n",
              "    [theme=dark] .colab-df-convert:hover {\n",
              "      background-color: #434B5C;\n",
              "      box-shadow: 0px 1px 3px 1px rgba(0, 0, 0, 0.15);\n",
              "      filter: drop-shadow(0px 1px 2px rgba(0, 0, 0, 0.3));\n",
              "      fill: #FFFFFF;\n",
              "    }\n",
              "  </style>\n",
              "\n",
              "      <script>\n",
              "        const buttonEl =\n",
              "          document.querySelector('#df-1acb7aee-8329-44eb-8c36-0600d37d65c3 button.colab-df-convert');\n",
              "        buttonEl.style.display =\n",
              "          google.colab.kernel.accessAllowed ? 'block' : 'none';\n",
              "\n",
              "        async function convertToInteractive(key) {\n",
              "          const element = document.querySelector('#df-1acb7aee-8329-44eb-8c36-0600d37d65c3');\n",
              "          const dataTable =\n",
              "            await google.colab.kernel.invokeFunction('convertToInteractive',\n",
              "                                                     [key], {});\n",
              "          if (!dataTable) return;\n",
              "\n",
              "          const docLinkHtml = 'Like what you see? Visit the ' +\n",
              "            '<a target=\"_blank\" href=https://colab.research.google.com/notebooks/data_table.ipynb>data table notebook</a>'\n",
              "            + ' to learn more about interactive tables.';\n",
              "          element.innerHTML = '';\n",
              "          dataTable['output_type'] = 'display_data';\n",
              "          await google.colab.output.renderOutput(dataTable, element);\n",
              "          const docLink = document.createElement('div');\n",
              "          docLink.innerHTML = docLinkHtml;\n",
              "          element.appendChild(docLink);\n",
              "        }\n",
              "      </script>\n",
              "    </div>\n",
              "  </div>\n",
              "  "
            ]
          },
          "metadata": {},
          "execution_count": 80
        }
      ]
    },
    {
      "cell_type": "code",
      "source": [
        "# Feature Scaling and Feature Encoding\n",
        "\n",
        "data_inf_num_scaled = scaler.transform(data_inf_num)\n",
        "data_inf_cat_encoded = ohe.transform(data_inf_cat)\n",
        "\n",
        "data_inf_num_scaled"
      ],
      "metadata": {
        "id": "m8nfZTOkM2Eh"
      },
      "execution_count": null,
      "outputs": []
    },
    {
      "cell_type": "code",
      "source": [
        "# Concate Numerical Columns and Categorical Columns\n",
        "\n",
        "data_inf_final = np.concatenate([data_inf_num_scaled, data_inf_cat_encoded], axis=1)\n",
        "data_inf_final"
      ],
      "metadata": {
        "id": "M-6ghgb1NGsp"
      },
      "execution_count": null,
      "outputs": []
    },
    {
      "cell_type": "markdown",
      "source": [
        "**Logistic Regression**"
      ],
      "metadata": {
        "id": "mQ6yA0ejUHDi"
      }
    },
    {
      "cell_type": "code",
      "source": [
        "# Predict using Logistic regression\n",
        "\n",
        "y_pred_inf = logreg_model.predict(data_inf_final)\n",
        "y_pred_inf"
      ],
      "metadata": {
        "colab": {
          "base_uri": "https://localhost:8080/"
        },
        "id": "Vmh9kFPQNOUo",
        "outputId": "b0dd5174-7b4f-4e93-ff4a-da1550af692a"
      },
      "execution_count": 84,
      "outputs": [
        {
          "output_type": "execute_result",
          "data": {
            "text/plain": [
              "array([' <=50K', ' <=50K', ' <=50K', ' <=50K', ' <=50K', ' >50K',\n",
              "       ' <=50K', ' >50K', ' <=50K', ' <=50K', ' <=50K', ' >50K', ' <=50K',\n",
              "       ' >50K', ' <=50K'], dtype=object)"
            ]
          },
          "metadata": {},
          "execution_count": 84
        }
      ]
    },
    {
      "cell_type": "code",
      "source": [
        "# Create DataFrame\n",
        "\n",
        "y_pred_inf_df = pd.DataFrame(y_pred_inf, columns=['Income_Bracket_Prediction'])\n",
        "y_pred_inf_df.head()"
      ],
      "metadata": {
        "colab": {
          "base_uri": "https://localhost:8080/",
          "height": 206
        },
        "id": "ip5cSut8NsSO",
        "outputId": "b4665e50-51d1-41f0-f9fd-c92a14210d17"
      },
      "execution_count": 85,
      "outputs": [
        {
          "output_type": "execute_result",
          "data": {
            "text/plain": [
              "  Income_Bracket_Prediction\n",
              "0                     <=50K\n",
              "1                     <=50K\n",
              "2                     <=50K\n",
              "3                     <=50K\n",
              "4                     <=50K"
            ],
            "text/html": [
              "\n",
              "  <div id=\"df-a4376ef4-08ad-4cb9-8c9a-12a2f7f01ab2\">\n",
              "    <div class=\"colab-df-container\">\n",
              "      <div>\n",
              "<style scoped>\n",
              "    .dataframe tbody tr th:only-of-type {\n",
              "        vertical-align: middle;\n",
              "    }\n",
              "\n",
              "    .dataframe tbody tr th {\n",
              "        vertical-align: top;\n",
              "    }\n",
              "\n",
              "    .dataframe thead th {\n",
              "        text-align: right;\n",
              "    }\n",
              "</style>\n",
              "<table border=\"1\" class=\"dataframe\">\n",
              "  <thead>\n",
              "    <tr style=\"text-align: right;\">\n",
              "      <th></th>\n",
              "      <th>Income_Bracket_Prediction</th>\n",
              "    </tr>\n",
              "  </thead>\n",
              "  <tbody>\n",
              "    <tr>\n",
              "      <th>0</th>\n",
              "      <td>&lt;=50K</td>\n",
              "    </tr>\n",
              "    <tr>\n",
              "      <th>1</th>\n",
              "      <td>&lt;=50K</td>\n",
              "    </tr>\n",
              "    <tr>\n",
              "      <th>2</th>\n",
              "      <td>&lt;=50K</td>\n",
              "    </tr>\n",
              "    <tr>\n",
              "      <th>3</th>\n",
              "      <td>&lt;=50K</td>\n",
              "    </tr>\n",
              "    <tr>\n",
              "      <th>4</th>\n",
              "      <td>&lt;=50K</td>\n",
              "    </tr>\n",
              "  </tbody>\n",
              "</table>\n",
              "</div>\n",
              "      <button class=\"colab-df-convert\" onclick=\"convertToInteractive('df-a4376ef4-08ad-4cb9-8c9a-12a2f7f01ab2')\"\n",
              "              title=\"Convert this dataframe to an interactive table.\"\n",
              "              style=\"display:none;\">\n",
              "        \n",
              "  <svg xmlns=\"http://www.w3.org/2000/svg\" height=\"24px\"viewBox=\"0 0 24 24\"\n",
              "       width=\"24px\">\n",
              "    <path d=\"M0 0h24v24H0V0z\" fill=\"none\"/>\n",
              "    <path d=\"M18.56 5.44l.94 2.06.94-2.06 2.06-.94-2.06-.94-.94-2.06-.94 2.06-2.06.94zm-11 1L8.5 8.5l.94-2.06 2.06-.94-2.06-.94L8.5 2.5l-.94 2.06-2.06.94zm10 10l.94 2.06.94-2.06 2.06-.94-2.06-.94-.94-2.06-.94 2.06-2.06.94z\"/><path d=\"M17.41 7.96l-1.37-1.37c-.4-.4-.92-.59-1.43-.59-.52 0-1.04.2-1.43.59L10.3 9.45l-7.72 7.72c-.78.78-.78 2.05 0 2.83L4 21.41c.39.39.9.59 1.41.59.51 0 1.02-.2 1.41-.59l7.78-7.78 2.81-2.81c.8-.78.8-2.07 0-2.86zM5.41 20L4 18.59l7.72-7.72 1.47 1.35L5.41 20z\"/>\n",
              "  </svg>\n",
              "      </button>\n",
              "      \n",
              "  <style>\n",
              "    .colab-df-container {\n",
              "      display:flex;\n",
              "      flex-wrap:wrap;\n",
              "      gap: 12px;\n",
              "    }\n",
              "\n",
              "    .colab-df-convert {\n",
              "      background-color: #E8F0FE;\n",
              "      border: none;\n",
              "      border-radius: 50%;\n",
              "      cursor: pointer;\n",
              "      display: none;\n",
              "      fill: #1967D2;\n",
              "      height: 32px;\n",
              "      padding: 0 0 0 0;\n",
              "      width: 32px;\n",
              "    }\n",
              "\n",
              "    .colab-df-convert:hover {\n",
              "      background-color: #E2EBFA;\n",
              "      box-shadow: 0px 1px 2px rgba(60, 64, 67, 0.3), 0px 1px 3px 1px rgba(60, 64, 67, 0.15);\n",
              "      fill: #174EA6;\n",
              "    }\n",
              "\n",
              "    [theme=dark] .colab-df-convert {\n",
              "      background-color: #3B4455;\n",
              "      fill: #D2E3FC;\n",
              "    }\n",
              "\n",
              "    [theme=dark] .colab-df-convert:hover {\n",
              "      background-color: #434B5C;\n",
              "      box-shadow: 0px 1px 3px 1px rgba(0, 0, 0, 0.15);\n",
              "      filter: drop-shadow(0px 1px 2px rgba(0, 0, 0, 0.3));\n",
              "      fill: #FFFFFF;\n",
              "    }\n",
              "  </style>\n",
              "\n",
              "      <script>\n",
              "        const buttonEl =\n",
              "          document.querySelector('#df-a4376ef4-08ad-4cb9-8c9a-12a2f7f01ab2 button.colab-df-convert');\n",
              "        buttonEl.style.display =\n",
              "          google.colab.kernel.accessAllowed ? 'block' : 'none';\n",
              "\n",
              "        async function convertToInteractive(key) {\n",
              "          const element = document.querySelector('#df-a4376ef4-08ad-4cb9-8c9a-12a2f7f01ab2');\n",
              "          const dataTable =\n",
              "            await google.colab.kernel.invokeFunction('convertToInteractive',\n",
              "                                                     [key], {});\n",
              "          if (!dataTable) return;\n",
              "\n",
              "          const docLinkHtml = 'Like what you see? Visit the ' +\n",
              "            '<a target=\"_blank\" href=https://colab.research.google.com/notebooks/data_table.ipynb>data table notebook</a>'\n",
              "            + ' to learn more about interactive tables.';\n",
              "          element.innerHTML = '';\n",
              "          dataTable['output_type'] = 'display_data';\n",
              "          await google.colab.output.renderOutput(dataTable, element);\n",
              "          const docLink = document.createElement('div');\n",
              "          docLink.innerHTML = docLinkHtml;\n",
              "          element.appendChild(docLink);\n",
              "        }\n",
              "      </script>\n",
              "    </div>\n",
              "  </div>\n",
              "  "
            ]
          },
          "metadata": {},
          "execution_count": 85
        }
      ]
    },
    {
      "cell_type": "code",
      "source": [
        "# Concate between Inference-Set and Rating's Prediction\n",
        "\n",
        "fin = pd.concat([data_inference, y_pred_inf_df], axis=1)\n",
        "fin.head()"
      ],
      "metadata": {
        "colab": {
          "base_uri": "https://localhost:8080/",
          "height": 322
        },
        "id": "9feeL7SWN3aP",
        "outputId": "3cee875a-af44-4503-a9cb-603ca67a3d9c"
      },
      "execution_count": 86,
      "outputs": [
        {
          "output_type": "execute_result",
          "data": {
            "text/plain": [
              "   age workclass  education_num  marital_status        occupation  \\\n",
              "0   39   Private              9   Never-married   Farming-fishing   \n",
              "1   21   Private              5   Never-married     Other-service   \n",
              "2   27   Private             13   Never-married      Adm-clerical   \n",
              "3   28   Private              6   Never-married   Farming-fishing   \n",
              "4   21   Private             10   Never-married    Prof-specialty   \n",
              "\n",
              "      relationship    race      sex  capital_gain  capital_loss  \\\n",
              "0        Unmarried   White     Male             0             0   \n",
              "1        Own-child   White   Female             0             0   \n",
              "2    Not-in-family   White   Female             0             0   \n",
              "3   Other-relative   White     Male             0             0   \n",
              "4    Not-in-family   White   Female             0             0   \n",
              "\n",
              "   hours_per_week  native_country income_bracket Income_Bracket_Prediction  \n",
              "0              40   United-States          <=50K                     <=50K  \n",
              "1              50          Mexico          <=50K                     <=50K  \n",
              "2              40   United-States          <=50K                     <=50K  \n",
              "3              35          Mexico          <=50K                     <=50K  \n",
              "4              40   United-States          <=50K                     <=50K  "
            ],
            "text/html": [
              "\n",
              "  <div id=\"df-be0aebbc-71e4-4931-b26b-91a12fcf3ce8\">\n",
              "    <div class=\"colab-df-container\">\n",
              "      <div>\n",
              "<style scoped>\n",
              "    .dataframe tbody tr th:only-of-type {\n",
              "        vertical-align: middle;\n",
              "    }\n",
              "\n",
              "    .dataframe tbody tr th {\n",
              "        vertical-align: top;\n",
              "    }\n",
              "\n",
              "    .dataframe thead th {\n",
              "        text-align: right;\n",
              "    }\n",
              "</style>\n",
              "<table border=\"1\" class=\"dataframe\">\n",
              "  <thead>\n",
              "    <tr style=\"text-align: right;\">\n",
              "      <th></th>\n",
              "      <th>age</th>\n",
              "      <th>workclass</th>\n",
              "      <th>education_num</th>\n",
              "      <th>marital_status</th>\n",
              "      <th>occupation</th>\n",
              "      <th>relationship</th>\n",
              "      <th>race</th>\n",
              "      <th>sex</th>\n",
              "      <th>capital_gain</th>\n",
              "      <th>capital_loss</th>\n",
              "      <th>hours_per_week</th>\n",
              "      <th>native_country</th>\n",
              "      <th>income_bracket</th>\n",
              "      <th>Income_Bracket_Prediction</th>\n",
              "    </tr>\n",
              "  </thead>\n",
              "  <tbody>\n",
              "    <tr>\n",
              "      <th>0</th>\n",
              "      <td>39</td>\n",
              "      <td>Private</td>\n",
              "      <td>9</td>\n",
              "      <td>Never-married</td>\n",
              "      <td>Farming-fishing</td>\n",
              "      <td>Unmarried</td>\n",
              "      <td>White</td>\n",
              "      <td>Male</td>\n",
              "      <td>0</td>\n",
              "      <td>0</td>\n",
              "      <td>40</td>\n",
              "      <td>United-States</td>\n",
              "      <td>&lt;=50K</td>\n",
              "      <td>&lt;=50K</td>\n",
              "    </tr>\n",
              "    <tr>\n",
              "      <th>1</th>\n",
              "      <td>21</td>\n",
              "      <td>Private</td>\n",
              "      <td>5</td>\n",
              "      <td>Never-married</td>\n",
              "      <td>Other-service</td>\n",
              "      <td>Own-child</td>\n",
              "      <td>White</td>\n",
              "      <td>Female</td>\n",
              "      <td>0</td>\n",
              "      <td>0</td>\n",
              "      <td>50</td>\n",
              "      <td>Mexico</td>\n",
              "      <td>&lt;=50K</td>\n",
              "      <td>&lt;=50K</td>\n",
              "    </tr>\n",
              "    <tr>\n",
              "      <th>2</th>\n",
              "      <td>27</td>\n",
              "      <td>Private</td>\n",
              "      <td>13</td>\n",
              "      <td>Never-married</td>\n",
              "      <td>Adm-clerical</td>\n",
              "      <td>Not-in-family</td>\n",
              "      <td>White</td>\n",
              "      <td>Female</td>\n",
              "      <td>0</td>\n",
              "      <td>0</td>\n",
              "      <td>40</td>\n",
              "      <td>United-States</td>\n",
              "      <td>&lt;=50K</td>\n",
              "      <td>&lt;=50K</td>\n",
              "    </tr>\n",
              "    <tr>\n",
              "      <th>3</th>\n",
              "      <td>28</td>\n",
              "      <td>Private</td>\n",
              "      <td>6</td>\n",
              "      <td>Never-married</td>\n",
              "      <td>Farming-fishing</td>\n",
              "      <td>Other-relative</td>\n",
              "      <td>White</td>\n",
              "      <td>Male</td>\n",
              "      <td>0</td>\n",
              "      <td>0</td>\n",
              "      <td>35</td>\n",
              "      <td>Mexico</td>\n",
              "      <td>&lt;=50K</td>\n",
              "      <td>&lt;=50K</td>\n",
              "    </tr>\n",
              "    <tr>\n",
              "      <th>4</th>\n",
              "      <td>21</td>\n",
              "      <td>Private</td>\n",
              "      <td>10</td>\n",
              "      <td>Never-married</td>\n",
              "      <td>Prof-specialty</td>\n",
              "      <td>Not-in-family</td>\n",
              "      <td>White</td>\n",
              "      <td>Female</td>\n",
              "      <td>0</td>\n",
              "      <td>0</td>\n",
              "      <td>40</td>\n",
              "      <td>United-States</td>\n",
              "      <td>&lt;=50K</td>\n",
              "      <td>&lt;=50K</td>\n",
              "    </tr>\n",
              "  </tbody>\n",
              "</table>\n",
              "</div>\n",
              "      <button class=\"colab-df-convert\" onclick=\"convertToInteractive('df-be0aebbc-71e4-4931-b26b-91a12fcf3ce8')\"\n",
              "              title=\"Convert this dataframe to an interactive table.\"\n",
              "              style=\"display:none;\">\n",
              "        \n",
              "  <svg xmlns=\"http://www.w3.org/2000/svg\" height=\"24px\"viewBox=\"0 0 24 24\"\n",
              "       width=\"24px\">\n",
              "    <path d=\"M0 0h24v24H0V0z\" fill=\"none\"/>\n",
              "    <path d=\"M18.56 5.44l.94 2.06.94-2.06 2.06-.94-2.06-.94-.94-2.06-.94 2.06-2.06.94zm-11 1L8.5 8.5l.94-2.06 2.06-.94-2.06-.94L8.5 2.5l-.94 2.06-2.06.94zm10 10l.94 2.06.94-2.06 2.06-.94-2.06-.94-.94-2.06-.94 2.06-2.06.94z\"/><path d=\"M17.41 7.96l-1.37-1.37c-.4-.4-.92-.59-1.43-.59-.52 0-1.04.2-1.43.59L10.3 9.45l-7.72 7.72c-.78.78-.78 2.05 0 2.83L4 21.41c.39.39.9.59 1.41.59.51 0 1.02-.2 1.41-.59l7.78-7.78 2.81-2.81c.8-.78.8-2.07 0-2.86zM5.41 20L4 18.59l7.72-7.72 1.47 1.35L5.41 20z\"/>\n",
              "  </svg>\n",
              "      </button>\n",
              "      \n",
              "  <style>\n",
              "    .colab-df-container {\n",
              "      display:flex;\n",
              "      flex-wrap:wrap;\n",
              "      gap: 12px;\n",
              "    }\n",
              "\n",
              "    .colab-df-convert {\n",
              "      background-color: #E8F0FE;\n",
              "      border: none;\n",
              "      border-radius: 50%;\n",
              "      cursor: pointer;\n",
              "      display: none;\n",
              "      fill: #1967D2;\n",
              "      height: 32px;\n",
              "      padding: 0 0 0 0;\n",
              "      width: 32px;\n",
              "    }\n",
              "\n",
              "    .colab-df-convert:hover {\n",
              "      background-color: #E2EBFA;\n",
              "      box-shadow: 0px 1px 2px rgba(60, 64, 67, 0.3), 0px 1px 3px 1px rgba(60, 64, 67, 0.15);\n",
              "      fill: #174EA6;\n",
              "    }\n",
              "\n",
              "    [theme=dark] .colab-df-convert {\n",
              "      background-color: #3B4455;\n",
              "      fill: #D2E3FC;\n",
              "    }\n",
              "\n",
              "    [theme=dark] .colab-df-convert:hover {\n",
              "      background-color: #434B5C;\n",
              "      box-shadow: 0px 1px 3px 1px rgba(0, 0, 0, 0.15);\n",
              "      filter: drop-shadow(0px 1px 2px rgba(0, 0, 0, 0.3));\n",
              "      fill: #FFFFFF;\n",
              "    }\n",
              "  </style>\n",
              "\n",
              "      <script>\n",
              "        const buttonEl =\n",
              "          document.querySelector('#df-be0aebbc-71e4-4931-b26b-91a12fcf3ce8 button.colab-df-convert');\n",
              "        buttonEl.style.display =\n",
              "          google.colab.kernel.accessAllowed ? 'block' : 'none';\n",
              "\n",
              "        async function convertToInteractive(key) {\n",
              "          const element = document.querySelector('#df-be0aebbc-71e4-4931-b26b-91a12fcf3ce8');\n",
              "          const dataTable =\n",
              "            await google.colab.kernel.invokeFunction('convertToInteractive',\n",
              "                                                     [key], {});\n",
              "          if (!dataTable) return;\n",
              "\n",
              "          const docLinkHtml = 'Like what you see? Visit the ' +\n",
              "            '<a target=\"_blank\" href=https://colab.research.google.com/notebooks/data_table.ipynb>data table notebook</a>'\n",
              "            + ' to learn more about interactive tables.';\n",
              "          element.innerHTML = '';\n",
              "          dataTable['output_type'] = 'display_data';\n",
              "          await google.colab.output.renderOutput(dataTable, element);\n",
              "          const docLink = document.createElement('div');\n",
              "          docLink.innerHTML = docLinkHtml;\n",
              "          element.appendChild(docLink);\n",
              "        }\n",
              "      </script>\n",
              "    </div>\n",
              "  </div>\n",
              "  "
            ]
          },
          "metadata": {},
          "execution_count": 86
        }
      ]
    },
    {
      "cell_type": "markdown",
      "source": [
        "**SVM**"
      ],
      "metadata": {
        "id": "P0h0sdIbUUGh"
      }
    },
    {
      "cell_type": "code",
      "source": [
        "# Predict using SVM\n",
        "\n",
        "y_pred_inf_svm = model.predict(data_inf_final)\n",
        "y_pred_inf_svm"
      ],
      "metadata": {
        "colab": {
          "base_uri": "https://localhost:8080/"
        },
        "id": "t7hLfSEQUX0t",
        "outputId": "1b803266-26f9-4ef3-ad10-fd88b3080413"
      },
      "execution_count": 87,
      "outputs": [
        {
          "output_type": "execute_result",
          "data": {
            "text/plain": [
              "array([' <=50K', ' <=50K', ' <=50K', ' <=50K', ' <=50K', ' >50K',\n",
              "       ' <=50K', ' >50K', ' >50K', ' <=50K', ' <=50K', ' >50K', ' <=50K',\n",
              "       ' <=50K', ' <=50K'], dtype=object)"
            ]
          },
          "metadata": {},
          "execution_count": 87
        }
      ]
    },
    {
      "cell_type": "code",
      "source": [
        "# Create DataFrame\n",
        "\n",
        "y_pred_inf_svm_df = pd.DataFrame(y_pred_inf_svm, columns=['Income_Bracket_Prediction'])\n",
        "y_pred_inf_svm_df.head()"
      ],
      "metadata": {
        "colab": {
          "base_uri": "https://localhost:8080/",
          "height": 206
        },
        "id": "E0AIqv17UhDF",
        "outputId": "7000d75c-59b2-4286-9cdc-ffc304b025f8"
      },
      "execution_count": 88,
      "outputs": [
        {
          "output_type": "execute_result",
          "data": {
            "text/plain": [
              "  Income_Bracket_Prediction\n",
              "0                     <=50K\n",
              "1                     <=50K\n",
              "2                     <=50K\n",
              "3                     <=50K\n",
              "4                     <=50K"
            ],
            "text/html": [
              "\n",
              "  <div id=\"df-33ceaa61-154e-4a42-8484-73fef60260d0\">\n",
              "    <div class=\"colab-df-container\">\n",
              "      <div>\n",
              "<style scoped>\n",
              "    .dataframe tbody tr th:only-of-type {\n",
              "        vertical-align: middle;\n",
              "    }\n",
              "\n",
              "    .dataframe tbody tr th {\n",
              "        vertical-align: top;\n",
              "    }\n",
              "\n",
              "    .dataframe thead th {\n",
              "        text-align: right;\n",
              "    }\n",
              "</style>\n",
              "<table border=\"1\" class=\"dataframe\">\n",
              "  <thead>\n",
              "    <tr style=\"text-align: right;\">\n",
              "      <th></th>\n",
              "      <th>Income_Bracket_Prediction</th>\n",
              "    </tr>\n",
              "  </thead>\n",
              "  <tbody>\n",
              "    <tr>\n",
              "      <th>0</th>\n",
              "      <td>&lt;=50K</td>\n",
              "    </tr>\n",
              "    <tr>\n",
              "      <th>1</th>\n",
              "      <td>&lt;=50K</td>\n",
              "    </tr>\n",
              "    <tr>\n",
              "      <th>2</th>\n",
              "      <td>&lt;=50K</td>\n",
              "    </tr>\n",
              "    <tr>\n",
              "      <th>3</th>\n",
              "      <td>&lt;=50K</td>\n",
              "    </tr>\n",
              "    <tr>\n",
              "      <th>4</th>\n",
              "      <td>&lt;=50K</td>\n",
              "    </tr>\n",
              "  </tbody>\n",
              "</table>\n",
              "</div>\n",
              "      <button class=\"colab-df-convert\" onclick=\"convertToInteractive('df-33ceaa61-154e-4a42-8484-73fef60260d0')\"\n",
              "              title=\"Convert this dataframe to an interactive table.\"\n",
              "              style=\"display:none;\">\n",
              "        \n",
              "  <svg xmlns=\"http://www.w3.org/2000/svg\" height=\"24px\"viewBox=\"0 0 24 24\"\n",
              "       width=\"24px\">\n",
              "    <path d=\"M0 0h24v24H0V0z\" fill=\"none\"/>\n",
              "    <path d=\"M18.56 5.44l.94 2.06.94-2.06 2.06-.94-2.06-.94-.94-2.06-.94 2.06-2.06.94zm-11 1L8.5 8.5l.94-2.06 2.06-.94-2.06-.94L8.5 2.5l-.94 2.06-2.06.94zm10 10l.94 2.06.94-2.06 2.06-.94-2.06-.94-.94-2.06-.94 2.06-2.06.94z\"/><path d=\"M17.41 7.96l-1.37-1.37c-.4-.4-.92-.59-1.43-.59-.52 0-1.04.2-1.43.59L10.3 9.45l-7.72 7.72c-.78.78-.78 2.05 0 2.83L4 21.41c.39.39.9.59 1.41.59.51 0 1.02-.2 1.41-.59l7.78-7.78 2.81-2.81c.8-.78.8-2.07 0-2.86zM5.41 20L4 18.59l7.72-7.72 1.47 1.35L5.41 20z\"/>\n",
              "  </svg>\n",
              "      </button>\n",
              "      \n",
              "  <style>\n",
              "    .colab-df-container {\n",
              "      display:flex;\n",
              "      flex-wrap:wrap;\n",
              "      gap: 12px;\n",
              "    }\n",
              "\n",
              "    .colab-df-convert {\n",
              "      background-color: #E8F0FE;\n",
              "      border: none;\n",
              "      border-radius: 50%;\n",
              "      cursor: pointer;\n",
              "      display: none;\n",
              "      fill: #1967D2;\n",
              "      height: 32px;\n",
              "      padding: 0 0 0 0;\n",
              "      width: 32px;\n",
              "    }\n",
              "\n",
              "    .colab-df-convert:hover {\n",
              "      background-color: #E2EBFA;\n",
              "      box-shadow: 0px 1px 2px rgba(60, 64, 67, 0.3), 0px 1px 3px 1px rgba(60, 64, 67, 0.15);\n",
              "      fill: #174EA6;\n",
              "    }\n",
              "\n",
              "    [theme=dark] .colab-df-convert {\n",
              "      background-color: #3B4455;\n",
              "      fill: #D2E3FC;\n",
              "    }\n",
              "\n",
              "    [theme=dark] .colab-df-convert:hover {\n",
              "      background-color: #434B5C;\n",
              "      box-shadow: 0px 1px 3px 1px rgba(0, 0, 0, 0.15);\n",
              "      filter: drop-shadow(0px 1px 2px rgba(0, 0, 0, 0.3));\n",
              "      fill: #FFFFFF;\n",
              "    }\n",
              "  </style>\n",
              "\n",
              "      <script>\n",
              "        const buttonEl =\n",
              "          document.querySelector('#df-33ceaa61-154e-4a42-8484-73fef60260d0 button.colab-df-convert');\n",
              "        buttonEl.style.display =\n",
              "          google.colab.kernel.accessAllowed ? 'block' : 'none';\n",
              "\n",
              "        async function convertToInteractive(key) {\n",
              "          const element = document.querySelector('#df-33ceaa61-154e-4a42-8484-73fef60260d0');\n",
              "          const dataTable =\n",
              "            await google.colab.kernel.invokeFunction('convertToInteractive',\n",
              "                                                     [key], {});\n",
              "          if (!dataTable) return;\n",
              "\n",
              "          const docLinkHtml = 'Like what you see? Visit the ' +\n",
              "            '<a target=\"_blank\" href=https://colab.research.google.com/notebooks/data_table.ipynb>data table notebook</a>'\n",
              "            + ' to learn more about interactive tables.';\n",
              "          element.innerHTML = '';\n",
              "          dataTable['output_type'] = 'display_data';\n",
              "          await google.colab.output.renderOutput(dataTable, element);\n",
              "          const docLink = document.createElement('div');\n",
              "          docLink.innerHTML = docLinkHtml;\n",
              "          element.appendChild(docLink);\n",
              "        }\n",
              "      </script>\n",
              "    </div>\n",
              "  </div>\n",
              "  "
            ]
          },
          "metadata": {},
          "execution_count": 88
        }
      ]
    },
    {
      "cell_type": "code",
      "source": [
        "# Concate between Inference-Set and Rating's Prediction\n",
        "\n",
        "fin2 = pd.concat([data_inference, y_pred_inf_svm_df], axis=1)\n",
        "fin2.tail()"
      ],
      "metadata": {
        "colab": {
          "base_uri": "https://localhost:8080/",
          "height": 357
        },
        "id": "EH8sfeiMUsv9",
        "outputId": "3c22daaa-ebcc-4097-b66d-23feed213e10"
      },
      "execution_count": 90,
      "outputs": [
        {
          "output_type": "execute_result",
          "data": {
            "text/plain": [
              "    age          workclass  education_num       marital_status  \\\n",
              "10   40   Self-emp-not-inc             13   Married-civ-spouse   \n",
              "11   54          Local-gov             10   Married-civ-spouse   \n",
              "12   54            Private             10   Married-civ-spouse   \n",
              "13   38            Private             10   Married-civ-spouse   \n",
              "14   20            Private             10        Never-married   \n",
              "\n",
              "            occupation relationship    race    sex  capital_gain  \\\n",
              "10               Sales      Husband   White   Male             0   \n",
              "11     Protective-serv      Husband   White   Male             0   \n",
              "12        Tech-support      Husband   White   Male             0   \n",
              "13               Sales      Husband   White   Male             0   \n",
              "14   Handlers-cleaners    Own-child   White   Male             0   \n",
              "\n",
              "    capital_loss  hours_per_week  native_country income_bracket  \\\n",
              "10             0              45   United-States           >50K   \n",
              "11             0              52   United-States          <=50K   \n",
              "12          1977              18   United-States           >50K   \n",
              "13             0              60   United-States           >50K   \n",
              "14             0              20   United-States          <=50K   \n",
              "\n",
              "   Income_Bracket_Prediction  \n",
              "10                     <=50K  \n",
              "11                      >50K  \n",
              "12                     <=50K  \n",
              "13                     <=50K  \n",
              "14                     <=50K  "
            ],
            "text/html": [
              "\n",
              "  <div id=\"df-bac8e3f2-dcb0-4663-88ca-e50820b189cd\">\n",
              "    <div class=\"colab-df-container\">\n",
              "      <div>\n",
              "<style scoped>\n",
              "    .dataframe tbody tr th:only-of-type {\n",
              "        vertical-align: middle;\n",
              "    }\n",
              "\n",
              "    .dataframe tbody tr th {\n",
              "        vertical-align: top;\n",
              "    }\n",
              "\n",
              "    .dataframe thead th {\n",
              "        text-align: right;\n",
              "    }\n",
              "</style>\n",
              "<table border=\"1\" class=\"dataframe\">\n",
              "  <thead>\n",
              "    <tr style=\"text-align: right;\">\n",
              "      <th></th>\n",
              "      <th>age</th>\n",
              "      <th>workclass</th>\n",
              "      <th>education_num</th>\n",
              "      <th>marital_status</th>\n",
              "      <th>occupation</th>\n",
              "      <th>relationship</th>\n",
              "      <th>race</th>\n",
              "      <th>sex</th>\n",
              "      <th>capital_gain</th>\n",
              "      <th>capital_loss</th>\n",
              "      <th>hours_per_week</th>\n",
              "      <th>native_country</th>\n",
              "      <th>income_bracket</th>\n",
              "      <th>Income_Bracket_Prediction</th>\n",
              "    </tr>\n",
              "  </thead>\n",
              "  <tbody>\n",
              "    <tr>\n",
              "      <th>10</th>\n",
              "      <td>40</td>\n",
              "      <td>Self-emp-not-inc</td>\n",
              "      <td>13</td>\n",
              "      <td>Married-civ-spouse</td>\n",
              "      <td>Sales</td>\n",
              "      <td>Husband</td>\n",
              "      <td>White</td>\n",
              "      <td>Male</td>\n",
              "      <td>0</td>\n",
              "      <td>0</td>\n",
              "      <td>45</td>\n",
              "      <td>United-States</td>\n",
              "      <td>&gt;50K</td>\n",
              "      <td>&lt;=50K</td>\n",
              "    </tr>\n",
              "    <tr>\n",
              "      <th>11</th>\n",
              "      <td>54</td>\n",
              "      <td>Local-gov</td>\n",
              "      <td>10</td>\n",
              "      <td>Married-civ-spouse</td>\n",
              "      <td>Protective-serv</td>\n",
              "      <td>Husband</td>\n",
              "      <td>White</td>\n",
              "      <td>Male</td>\n",
              "      <td>0</td>\n",
              "      <td>0</td>\n",
              "      <td>52</td>\n",
              "      <td>United-States</td>\n",
              "      <td>&lt;=50K</td>\n",
              "      <td>&gt;50K</td>\n",
              "    </tr>\n",
              "    <tr>\n",
              "      <th>12</th>\n",
              "      <td>54</td>\n",
              "      <td>Private</td>\n",
              "      <td>10</td>\n",
              "      <td>Married-civ-spouse</td>\n",
              "      <td>Tech-support</td>\n",
              "      <td>Husband</td>\n",
              "      <td>White</td>\n",
              "      <td>Male</td>\n",
              "      <td>0</td>\n",
              "      <td>1977</td>\n",
              "      <td>18</td>\n",
              "      <td>United-States</td>\n",
              "      <td>&gt;50K</td>\n",
              "      <td>&lt;=50K</td>\n",
              "    </tr>\n",
              "    <tr>\n",
              "      <th>13</th>\n",
              "      <td>38</td>\n",
              "      <td>Private</td>\n",
              "      <td>10</td>\n",
              "      <td>Married-civ-spouse</td>\n",
              "      <td>Sales</td>\n",
              "      <td>Husband</td>\n",
              "      <td>White</td>\n",
              "      <td>Male</td>\n",
              "      <td>0</td>\n",
              "      <td>0</td>\n",
              "      <td>60</td>\n",
              "      <td>United-States</td>\n",
              "      <td>&gt;50K</td>\n",
              "      <td>&lt;=50K</td>\n",
              "    </tr>\n",
              "    <tr>\n",
              "      <th>14</th>\n",
              "      <td>20</td>\n",
              "      <td>Private</td>\n",
              "      <td>10</td>\n",
              "      <td>Never-married</td>\n",
              "      <td>Handlers-cleaners</td>\n",
              "      <td>Own-child</td>\n",
              "      <td>White</td>\n",
              "      <td>Male</td>\n",
              "      <td>0</td>\n",
              "      <td>0</td>\n",
              "      <td>20</td>\n",
              "      <td>United-States</td>\n",
              "      <td>&lt;=50K</td>\n",
              "      <td>&lt;=50K</td>\n",
              "    </tr>\n",
              "  </tbody>\n",
              "</table>\n",
              "</div>\n",
              "      <button class=\"colab-df-convert\" onclick=\"convertToInteractive('df-bac8e3f2-dcb0-4663-88ca-e50820b189cd')\"\n",
              "              title=\"Convert this dataframe to an interactive table.\"\n",
              "              style=\"display:none;\">\n",
              "        \n",
              "  <svg xmlns=\"http://www.w3.org/2000/svg\" height=\"24px\"viewBox=\"0 0 24 24\"\n",
              "       width=\"24px\">\n",
              "    <path d=\"M0 0h24v24H0V0z\" fill=\"none\"/>\n",
              "    <path d=\"M18.56 5.44l.94 2.06.94-2.06 2.06-.94-2.06-.94-.94-2.06-.94 2.06-2.06.94zm-11 1L8.5 8.5l.94-2.06 2.06-.94-2.06-.94L8.5 2.5l-.94 2.06-2.06.94zm10 10l.94 2.06.94-2.06 2.06-.94-2.06-.94-.94-2.06-.94 2.06-2.06.94z\"/><path d=\"M17.41 7.96l-1.37-1.37c-.4-.4-.92-.59-1.43-.59-.52 0-1.04.2-1.43.59L10.3 9.45l-7.72 7.72c-.78.78-.78 2.05 0 2.83L4 21.41c.39.39.9.59 1.41.59.51 0 1.02-.2 1.41-.59l7.78-7.78 2.81-2.81c.8-.78.8-2.07 0-2.86zM5.41 20L4 18.59l7.72-7.72 1.47 1.35L5.41 20z\"/>\n",
              "  </svg>\n",
              "      </button>\n",
              "      \n",
              "  <style>\n",
              "    .colab-df-container {\n",
              "      display:flex;\n",
              "      flex-wrap:wrap;\n",
              "      gap: 12px;\n",
              "    }\n",
              "\n",
              "    .colab-df-convert {\n",
              "      background-color: #E8F0FE;\n",
              "      border: none;\n",
              "      border-radius: 50%;\n",
              "      cursor: pointer;\n",
              "      display: none;\n",
              "      fill: #1967D2;\n",
              "      height: 32px;\n",
              "      padding: 0 0 0 0;\n",
              "      width: 32px;\n",
              "    }\n",
              "\n",
              "    .colab-df-convert:hover {\n",
              "      background-color: #E2EBFA;\n",
              "      box-shadow: 0px 1px 2px rgba(60, 64, 67, 0.3), 0px 1px 3px 1px rgba(60, 64, 67, 0.15);\n",
              "      fill: #174EA6;\n",
              "    }\n",
              "\n",
              "    [theme=dark] .colab-df-convert {\n",
              "      background-color: #3B4455;\n",
              "      fill: #D2E3FC;\n",
              "    }\n",
              "\n",
              "    [theme=dark] .colab-df-convert:hover {\n",
              "      background-color: #434B5C;\n",
              "      box-shadow: 0px 1px 3px 1px rgba(0, 0, 0, 0.15);\n",
              "      filter: drop-shadow(0px 1px 2px rgba(0, 0, 0, 0.3));\n",
              "      fill: #FFFFFF;\n",
              "    }\n",
              "  </style>\n",
              "\n",
              "      <script>\n",
              "        const buttonEl =\n",
              "          document.querySelector('#df-bac8e3f2-dcb0-4663-88ca-e50820b189cd button.colab-df-convert');\n",
              "        buttonEl.style.display =\n",
              "          google.colab.kernel.accessAllowed ? 'block' : 'none';\n",
              "\n",
              "        async function convertToInteractive(key) {\n",
              "          const element = document.querySelector('#df-bac8e3f2-dcb0-4663-88ca-e50820b189cd');\n",
              "          const dataTable =\n",
              "            await google.colab.kernel.invokeFunction('convertToInteractive',\n",
              "                                                     [key], {});\n",
              "          if (!dataTable) return;\n",
              "\n",
              "          const docLinkHtml = 'Like what you see? Visit the ' +\n",
              "            '<a target=\"_blank\" href=https://colab.research.google.com/notebooks/data_table.ipynb>data table notebook</a>'\n",
              "            + ' to learn more about interactive tables.';\n",
              "          element.innerHTML = '';\n",
              "          dataTable['output_type'] = 'display_data';\n",
              "          await google.colab.output.renderOutput(dataTable, element);\n",
              "          const docLink = document.createElement('div');\n",
              "          docLink.innerHTML = docLinkHtml;\n",
              "          element.appendChild(docLink);\n",
              "        }\n",
              "      </script>\n",
              "    </div>\n",
              "  </div>\n",
              "  "
            ]
          },
          "metadata": {},
          "execution_count": 90
        }
      ]
    },
    {
      "cell_type": "markdown",
      "source": [
        "# **X. Kesimpulan**"
      ],
      "metadata": {
        "id": "F5lUiz7jU4nb"
      }
    },
    {
      "cell_type": "markdown",
      "source": [
        "Pada `census_adult_income` yang digunakan untuk memprediksi kelompok penghasilan, data `income_bracket` yang merupakan target memiliki 2 kelas saja (<=50K dan >50K) membuatnya termasuk ke dalam jenis data categorical. Metode Logistic Regression cocok untuk memprediksi tipe data dengan jenis data ini. Target yang memiliki 2 kelas juga cocok jika diprediksi menggunakan SVM. \n",
        "<br>\n",
        "<br>\n",
        "Nilai precision dipilih dalam evaluasi model karena tidak menginginkan nilai false positive. Jika dibandingkan antara keduanya, penggunaan SVM meningkatkan nilai precision pada data train dibandingkan dengan logistic regression namun untuk data test tidak terlalu ada perbedaan.\n",
        "<br>\n",
        "<br>\n",
        "Adapun selama proses pengerjaan model, pemilihan SVC seperti yang dilakukan kurang cocok untuk dataset yang besar seperti data ini. \n",
        "\n"
      ],
      "metadata": {
        "id": "0uooQhQ6VKVf"
      }
    },
    {
      "cell_type": "markdown",
      "source": [
        "# **Menjawab Pertanyaan**"
      ],
      "metadata": {
        "id": "Wv_y3G3ct39t"
      }
    },
    {
      "cell_type": "markdown",
      "source": [
        "1. Apakah yang dimaksud dengan coeficient pada logistic regression?\n",
        "  <br>**Jawab:** Dalam logistic regression, sulit untuk menginterpretasikan nikai coefficient karena bentuk persamaannya yang merupakan logaritma natural dari probabilitas logistik sehingga digunakan *Odds Ratio*. \n",
        "\n",
        "2. Apakah yang dimaksud dengan Support Vector pada SVM?\n",
        "  <br>**Jawab:** Super Vector adalah Data yang paling mendekati hyperplane. Pembentukan hyperplane akan sangat dipengaruhi oleh data yang paling dekat dengan hyperplane.\n",
        "\n",
        "3. Apakah fungsi parameter kernel pada SVM? Jelaskan salah satu kernel yang kalian pahami!\n",
        "  <br>**Jawab:** Kernel berfungsi untuk menentukan jenis/bentuk separator. Adapun bentuk separator tersebut terdiri atas Linear untuk garis lurus (tidak dipetakan ke dimensi yang lebih tinggi), polinomial untuk berliku/meliuk, dan untuk defaultnya adalah rbf function untuk memetakan ke ruang infinite."
      ],
      "metadata": {
        "id": "qav7Rq0NuUWB"
      }
    }
  ],
  "metadata": {
    "colab": {
      "collapsed_sections": [
        "JotHLep4KL2Q"
      ],
      "toc_visible": true,
      "provenance": []
    },
    "kernelspec": {
      "display_name": "Python 3",
      "name": "python3"
    },
    "language_info": {
      "name": "python"
    }
  },
  "nbformat": 4,
  "nbformat_minor": 0
}